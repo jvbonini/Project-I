{
 "cells": [
  {
   "cell_type": "markdown",
   "metadata": {},
   "source": [
    "##  Dependencies and Setup"
   ]
  },
  {
   "cell_type": "code",
   "execution_count": 1,
   "metadata": {},
   "outputs": [],
   "source": [
    "  # Importing library\n",
    "%matplotlib inline"
   ]
  },
  {
   "cell_type": "code",
   "execution_count": 2,
   "metadata": {},
   "outputs": [],
   "source": [
    "  # Importing external packages\n",
    "import numpy as np\n",
    "import matplotlib.patches as mpatches\n",
    "import requests\n",
    "import json\n",
    "import pandas as pd"
   ]
  },
  {
   "cell_type": "code",
   "execution_count": 3,
   "metadata": {},
   "outputs": [],
   "source": [
    "  # File to Load \n",
    "ticket_data = \"output_data//cleansed_dataframe.xlsx\""
   ]
  },
  {
   "cell_type": "code",
   "execution_count": 4,
   "metadata": {},
   "outputs": [
    {
     "data": {
      "text/html": [
       "<div>\n",
       "<style scoped>\n",
       "    .dataframe tbody tr th:only-of-type {\n",
       "        vertical-align: middle;\n",
       "    }\n",
       "\n",
       "    .dataframe tbody tr th {\n",
       "        vertical-align: top;\n",
       "    }\n",
       "\n",
       "    .dataframe thead th {\n",
       "        text-align: right;\n",
       "    }\n",
       "</style>\n",
       "<table border=\"1\" class=\"dataframe\">\n",
       "  <thead>\n",
       "    <tr style=\"text-align: right;\">\n",
       "      <th></th>\n",
       "      <th>Case ID</th>\n",
       "      <th>Company</th>\n",
       "      <th>Region</th>\n",
       "      <th>Status</th>\n",
       "      <th>Source</th>\n",
       "      <th>Current Agent</th>\n",
       "      <th>Creation Date</th>\n",
       "      <th>Due Date</th>\n",
       "      <th>Closed Date</th>\n",
       "      <th>Service Group</th>\n",
       "      <th>...</th>\n",
       "      <th>Creation Year</th>\n",
       "      <th>Creation Month</th>\n",
       "      <th>Creation Day</th>\n",
       "      <th>Due_Date</th>\n",
       "      <th>Due Time</th>\n",
       "      <th>Due Year</th>\n",
       "      <th>Due Month</th>\n",
       "      <th>Due Day</th>\n",
       "      <th>Closed_Date</th>\n",
       "      <th>Closed Time</th>\n",
       "    </tr>\n",
       "  </thead>\n",
       "  <tbody>\n",
       "    <tr>\n",
       "      <th>0</th>\n",
       "      <td>8111665</td>\n",
       "      <td>AU</td>\n",
       "      <td>APAC</td>\n",
       "      <td>Closed</td>\n",
       "      <td>E-mail</td>\n",
       "      <td>MYHRW_JuliusB</td>\n",
       "      <td>11/05/18  22:07</td>\n",
       "      <td>11/20/18  21:00</td>\n",
       "      <td>11/16/18  07:45</td>\n",
       "      <td>MyHRW</td>\n",
       "      <td>...</td>\n",
       "      <td>2018</td>\n",
       "      <td>11</td>\n",
       "      <td>5</td>\n",
       "      <td>2018-11-20</td>\n",
       "      <td>21:00:00</td>\n",
       "      <td>2018</td>\n",
       "      <td>11</td>\n",
       "      <td>20</td>\n",
       "      <td>2018-11-16</td>\n",
       "      <td>07:45:00</td>\n",
       "    </tr>\n",
       "    <tr>\n",
       "      <th>1</th>\n",
       "      <td>8111974</td>\n",
       "      <td>AU</td>\n",
       "      <td>APAC</td>\n",
       "      <td>Closed</td>\n",
       "      <td>E-mail</td>\n",
       "      <td>MyHRW_AdamSu</td>\n",
       "      <td>11/05/18  23:00</td>\n",
       "      <td>11/13/18  22:01</td>\n",
       "      <td>11/05/18  23:21</td>\n",
       "      <td>MyHRW</td>\n",
       "      <td>...</td>\n",
       "      <td>2018</td>\n",
       "      <td>11</td>\n",
       "      <td>5</td>\n",
       "      <td>2018-11-13</td>\n",
       "      <td>22:01:00</td>\n",
       "      <td>2018</td>\n",
       "      <td>11</td>\n",
       "      <td>13</td>\n",
       "      <td>2018-11-05</td>\n",
       "      <td>23:21:00</td>\n",
       "    </tr>\n",
       "    <tr>\n",
       "      <th>2</th>\n",
       "      <td>8112663</td>\n",
       "      <td>AU</td>\n",
       "      <td>APAC</td>\n",
       "      <td>Closed</td>\n",
       "      <td>E-mail</td>\n",
       "      <td>MyHRW_AdamSu</td>\n",
       "      <td>11/06/18  04:18</td>\n",
       "      <td>11/07/18  22:01</td>\n",
       "      <td>11/06/18  04:52</td>\n",
       "      <td>MyHRW</td>\n",
       "      <td>...</td>\n",
       "      <td>2018</td>\n",
       "      <td>11</td>\n",
       "      <td>6</td>\n",
       "      <td>2018-11-07</td>\n",
       "      <td>22:01:00</td>\n",
       "      <td>2018</td>\n",
       "      <td>11</td>\n",
       "      <td>7</td>\n",
       "      <td>2018-11-06</td>\n",
       "      <td>04:52:00</td>\n",
       "    </tr>\n",
       "    <tr>\n",
       "      <th>3</th>\n",
       "      <td>8112727</td>\n",
       "      <td>AU</td>\n",
       "      <td>APAC</td>\n",
       "      <td>Closed</td>\n",
       "      <td>Interface</td>\n",
       "      <td>MyHRW_AdamSu</td>\n",
       "      <td>11/06/18  04:58</td>\n",
       "      <td>11/08/18  22:01</td>\n",
       "      <td>11/06/18  05:04</td>\n",
       "      <td>MyHRW</td>\n",
       "      <td>...</td>\n",
       "      <td>2018</td>\n",
       "      <td>11</td>\n",
       "      <td>6</td>\n",
       "      <td>2018-11-08</td>\n",
       "      <td>22:01:00</td>\n",
       "      <td>2018</td>\n",
       "      <td>11</td>\n",
       "      <td>8</td>\n",
       "      <td>2018-11-06</td>\n",
       "      <td>05:04:00</td>\n",
       "    </tr>\n",
       "    <tr>\n",
       "      <th>4</th>\n",
       "      <td>8112910</td>\n",
       "      <td>AU</td>\n",
       "      <td>APAC</td>\n",
       "      <td>Closed</td>\n",
       "      <td>E-mail</td>\n",
       "      <td>MYHRW_JuliusB</td>\n",
       "      <td>11/06/18  06:06</td>\n",
       "      <td>11/13/18  22:01</td>\n",
       "      <td>11/06/18  07:31</td>\n",
       "      <td>MyHRW</td>\n",
       "      <td>...</td>\n",
       "      <td>2018</td>\n",
       "      <td>11</td>\n",
       "      <td>6</td>\n",
       "      <td>2018-11-13</td>\n",
       "      <td>22:01:00</td>\n",
       "      <td>2018</td>\n",
       "      <td>11</td>\n",
       "      <td>13</td>\n",
       "      <td>2018-11-06</td>\n",
       "      <td>07:31:00</td>\n",
       "    </tr>\n",
       "  </tbody>\n",
       "</table>\n",
       "<p>5 rows × 34 columns</p>\n",
       "</div>"
      ],
      "text/plain": [
       "   Case ID  Company Region  Status     Source  Current Agent  \\\n",
       "0   8111665      AU   APAC  Closed     E-mail  MYHRW_JuliusB   \n",
       "1   8111974      AU   APAC  Closed     E-mail   MyHRW_AdamSu   \n",
       "2   8112663      AU   APAC  Closed     E-mail   MyHRW_AdamSu   \n",
       "3   8112727      AU   APAC  Closed  Interface   MyHRW_AdamSu   \n",
       "4   8112910      AU   APAC  Closed     E-mail  MYHRW_JuliusB   \n",
       "\n",
       "       Creation Date           Due Date        Closed Date Service Group  ...  \\\n",
       "0   11/05/18  22:07    11/20/18  21:00    11/16/18  07:45          MyHRW  ...   \n",
       "1   11/05/18  23:00    11/13/18  22:01    11/05/18  23:21          MyHRW  ...   \n",
       "2   11/06/18  04:18    11/07/18  22:01    11/06/18  04:52          MyHRW  ...   \n",
       "3   11/06/18  04:58    11/08/18  22:01    11/06/18  05:04          MyHRW  ...   \n",
       "4   11/06/18  06:06    11/13/18  22:01    11/06/18  07:31          MyHRW  ...   \n",
       "\n",
       "  Creation Year Creation Month Creation Day   Due_Date  Due Time Due Year  \\\n",
       "0          2018             11            5 2018-11-20  21:00:00     2018   \n",
       "1          2018             11            5 2018-11-13  22:01:00     2018   \n",
       "2          2018             11            6 2018-11-07  22:01:00     2018   \n",
       "3          2018             11            6 2018-11-08  22:01:00     2018   \n",
       "4          2018             11            6 2018-11-13  22:01:00     2018   \n",
       "\n",
       "  Due Month  Due Day  Closed_Date Closed Time  \n",
       "0        11       20   2018-11-16    07:45:00  \n",
       "1        11       13   2018-11-05    23:21:00  \n",
       "2        11        7   2018-11-06    04:52:00  \n",
       "3        11        8   2018-11-06    05:04:00  \n",
       "4        11       13   2018-11-06    07:31:00  \n",
       "\n",
       "[5 rows x 34 columns]"
      ]
     },
     "execution_count": 4,
     "metadata": {},
     "output_type": "execute_result"
    }
   ],
   "source": [
    "  # Read the Ticket file and store Pandas data frame\n",
    "df_ticket_cl = pd.read_excel(ticket_data)\n",
    "\n",
    "# Print out in the window\n",
    "df_ticket_cl.head()"
   ]
  },
  {
   "cell_type": "markdown",
   "metadata": {},
   "source": [
    "### Yearly Count\n",
    "\n",
    "The following graph has a year by year breakdown of tickets. Add analysis..."
   ]
  },
  {
   "cell_type": "code",
   "execution_count": 5,
   "metadata": {},
   "outputs": [
    {
     "name": "stdout",
     "output_type": "stream",
     "text": [
      "   Year  Total Number of Tickets\n",
      "0  2018                    39519\n",
      "1  2019                    25167\n"
     ]
    },
    {
     "ename": "TypeError",
     "evalue": "from_bounds() argument after * must be an iterable, not float",
     "output_type": "error",
     "traceback": [
      "\u001b[1;31m---------------------------------------------------------------------------\u001b[0m",
      "\u001b[1;31mTypeError\u001b[0m                                 Traceback (most recent call last)",
      "\u001b[1;32m<ipython-input-5-138f8c166f1b>\u001b[0m in \u001b[0;36m<module>\u001b[1;34m\u001b[0m\n\u001b[0;32m      7\u001b[0m \u001b[0mprint\u001b[0m\u001b[1;33m(\u001b[0m\u001b[0mtickets_per_year_df\u001b[0m\u001b[1;33m)\u001b[0m\u001b[1;33m\u001b[0m\u001b[1;33m\u001b[0m\u001b[0m\n\u001b[0;32m      8\u001b[0m \u001b[1;31m# Tells matplotlib that we want to make a line graph\u001b[0m\u001b[1;33m\u001b[0m\u001b[1;33m\u001b[0m\u001b[1;33m\u001b[0m\u001b[0m\n\u001b[1;32m----> 9\u001b[1;33m \u001b[0mtotal_tickets_per_year_chart\u001b[0m \u001b[1;33m=\u001b[0m \u001b[0mnumber_of_tickets_per_year\u001b[0m\u001b[1;33m.\u001b[0m\u001b[0mplot\u001b[0m\u001b[1;33m(\u001b[0m\u001b[0mkind\u001b[0m \u001b[1;33m=\u001b[0m \u001b[1;34m\"line\"\u001b[0m\u001b[1;33m,\u001b[0m\u001b[0mgrid\u001b[0m\u001b[1;33m=\u001b[0m\u001b[1;32mTrue\u001b[0m\u001b[1;33m,\u001b[0m\u001b[0mmarker\u001b[0m\u001b[1;33m=\u001b[0m\u001b[1;34m'^'\u001b[0m\u001b[1;33m,\u001b[0m\u001b[0mtitle\u001b[0m \u001b[1;33m=\u001b[0m \u001b[1;34m\"Tickets per Year\"\u001b[0m\u001b[1;33m,\u001b[0m\u001b[0mfigsize\u001b[0m \u001b[1;33m=\u001b[0m \u001b[1;33m(\u001b[0m\u001b[1;36m10.5\u001b[0m\u001b[1;33m)\u001b[0m\u001b[1;33m)\u001b[0m\u001b[1;33m\u001b[0m\u001b[1;33m\u001b[0m\u001b[0m\n\u001b[0m\u001b[0;32m     10\u001b[0m \u001b[0mtotal_tickets_per_year_chart\u001b[0m\u001b[1;33m.\u001b[0m\u001b[0mset_xlabel\u001b[0m\u001b[1;33m(\u001b[0m\u001b[1;34m\"Year\"\u001b[0m\u001b[1;33m)\u001b[0m\u001b[1;33m\u001b[0m\u001b[1;33m\u001b[0m\u001b[0m\n\u001b[0;32m     11\u001b[0m \u001b[0mtotal_tickets_per_year_chart\u001b[0m\u001b[1;33m.\u001b[0m\u001b[0mset_ylabel\u001b[0m\u001b[1;33m(\u001b[0m\u001b[1;34m\"Total Ticket per Year\"\u001b[0m\u001b[1;33m)\u001b[0m\u001b[1;33m\u001b[0m\u001b[1;33m\u001b[0m\u001b[0m\n",
      "\u001b[1;32m~\\AppData\\Local\\Continuum\\anaconda3\\envs\\PythonData\\lib\\site-packages\\pandas\\plotting\\_core.py\u001b[0m in \u001b[0;36m__call__\u001b[1;34m(self, kind, ax, figsize, use_index, title, grid, legend, style, logx, logy, loglog, xticks, yticks, xlim, ylim, rot, fontsize, colormap, table, yerr, xerr, label, secondary_y, **kwds)\u001b[0m\n\u001b[0;32m   2737\u001b[0m                            \u001b[0mcolormap\u001b[0m\u001b[1;33m=\u001b[0m\u001b[0mcolormap\u001b[0m\u001b[1;33m,\u001b[0m \u001b[0mtable\u001b[0m\u001b[1;33m=\u001b[0m\u001b[0mtable\u001b[0m\u001b[1;33m,\u001b[0m \u001b[0myerr\u001b[0m\u001b[1;33m=\u001b[0m\u001b[0myerr\u001b[0m\u001b[1;33m,\u001b[0m\u001b[1;33m\u001b[0m\u001b[1;33m\u001b[0m\u001b[0m\n\u001b[0;32m   2738\u001b[0m                            \u001b[0mxerr\u001b[0m\u001b[1;33m=\u001b[0m\u001b[0mxerr\u001b[0m\u001b[1;33m,\u001b[0m \u001b[0mlabel\u001b[0m\u001b[1;33m=\u001b[0m\u001b[0mlabel\u001b[0m\u001b[1;33m,\u001b[0m \u001b[0msecondary_y\u001b[0m\u001b[1;33m=\u001b[0m\u001b[0msecondary_y\u001b[0m\u001b[1;33m,\u001b[0m\u001b[1;33m\u001b[0m\u001b[1;33m\u001b[0m\u001b[0m\n\u001b[1;32m-> 2739\u001b[1;33m                            **kwds)\n\u001b[0m\u001b[0;32m   2740\u001b[0m     \u001b[0m__call__\u001b[0m\u001b[1;33m.\u001b[0m\u001b[0m__doc__\u001b[0m \u001b[1;33m=\u001b[0m \u001b[0mplot_series\u001b[0m\u001b[1;33m.\u001b[0m\u001b[0m__doc__\u001b[0m\u001b[1;33m\u001b[0m\u001b[1;33m\u001b[0m\u001b[0m\n\u001b[0;32m   2741\u001b[0m \u001b[1;33m\u001b[0m\u001b[0m\n",
      "\u001b[1;32m~\\AppData\\Local\\Continuum\\anaconda3\\envs\\PythonData\\lib\\site-packages\\pandas\\plotting\\_core.py\u001b[0m in \u001b[0;36mplot_series\u001b[1;34m(data, kind, ax, figsize, use_index, title, grid, legend, style, logx, logy, loglog, xticks, yticks, xlim, ylim, rot, fontsize, colormap, table, yerr, xerr, label, secondary_y, **kwds)\u001b[0m\n\u001b[0;32m   1993\u001b[0m                  \u001b[0myerr\u001b[0m\u001b[1;33m=\u001b[0m\u001b[0myerr\u001b[0m\u001b[1;33m,\u001b[0m \u001b[0mxerr\u001b[0m\u001b[1;33m=\u001b[0m\u001b[0mxerr\u001b[0m\u001b[1;33m,\u001b[0m\u001b[1;33m\u001b[0m\u001b[1;33m\u001b[0m\u001b[0m\n\u001b[0;32m   1994\u001b[0m                  \u001b[0mlabel\u001b[0m\u001b[1;33m=\u001b[0m\u001b[0mlabel\u001b[0m\u001b[1;33m,\u001b[0m \u001b[0msecondary_y\u001b[0m\u001b[1;33m=\u001b[0m\u001b[0msecondary_y\u001b[0m\u001b[1;33m,\u001b[0m\u001b[1;33m\u001b[0m\u001b[1;33m\u001b[0m\u001b[0m\n\u001b[1;32m-> 1995\u001b[1;33m                  **kwds)\n\u001b[0m\u001b[0;32m   1996\u001b[0m \u001b[1;33m\u001b[0m\u001b[0m\n\u001b[0;32m   1997\u001b[0m \u001b[1;33m\u001b[0m\u001b[0m\n",
      "\u001b[1;32m~\\AppData\\Local\\Continuum\\anaconda3\\envs\\PythonData\\lib\\site-packages\\pandas\\plotting\\_core.py\u001b[0m in \u001b[0;36m_plot\u001b[1;34m(data, x, y, subplots, ax, kind, **kwds)\u001b[0m\n\u001b[0;32m   1796\u001b[0m         \u001b[0mplot_obj\u001b[0m \u001b[1;33m=\u001b[0m \u001b[0mklass\u001b[0m\u001b[1;33m(\u001b[0m\u001b[0mdata\u001b[0m\u001b[1;33m,\u001b[0m \u001b[0msubplots\u001b[0m\u001b[1;33m=\u001b[0m\u001b[0msubplots\u001b[0m\u001b[1;33m,\u001b[0m \u001b[0max\u001b[0m\u001b[1;33m=\u001b[0m\u001b[0max\u001b[0m\u001b[1;33m,\u001b[0m \u001b[0mkind\u001b[0m\u001b[1;33m=\u001b[0m\u001b[0mkind\u001b[0m\u001b[1;33m,\u001b[0m \u001b[1;33m**\u001b[0m\u001b[0mkwds\u001b[0m\u001b[1;33m)\u001b[0m\u001b[1;33m\u001b[0m\u001b[1;33m\u001b[0m\u001b[0m\n\u001b[0;32m   1797\u001b[0m \u001b[1;33m\u001b[0m\u001b[0m\n\u001b[1;32m-> 1798\u001b[1;33m     \u001b[0mplot_obj\u001b[0m\u001b[1;33m.\u001b[0m\u001b[0mgenerate\u001b[0m\u001b[1;33m(\u001b[0m\u001b[1;33m)\u001b[0m\u001b[1;33m\u001b[0m\u001b[1;33m\u001b[0m\u001b[0m\n\u001b[0m\u001b[0;32m   1799\u001b[0m     \u001b[0mplot_obj\u001b[0m\u001b[1;33m.\u001b[0m\u001b[0mdraw\u001b[0m\u001b[1;33m(\u001b[0m\u001b[1;33m)\u001b[0m\u001b[1;33m\u001b[0m\u001b[1;33m\u001b[0m\u001b[0m\n\u001b[0;32m   1800\u001b[0m     \u001b[1;32mreturn\u001b[0m \u001b[0mplot_obj\u001b[0m\u001b[1;33m.\u001b[0m\u001b[0mresult\u001b[0m\u001b[1;33m\u001b[0m\u001b[1;33m\u001b[0m\u001b[0m\n",
      "\u001b[1;32m~\\AppData\\Local\\Continuum\\anaconda3\\envs\\PythonData\\lib\\site-packages\\pandas\\plotting\\_core.py\u001b[0m in \u001b[0;36mgenerate\u001b[1;34m(self)\u001b[0m\n\u001b[0;32m    248\u001b[0m         \u001b[0mself\u001b[0m\u001b[1;33m.\u001b[0m\u001b[0m_args_adjust\u001b[0m\u001b[1;33m(\u001b[0m\u001b[1;33m)\u001b[0m\u001b[1;33m\u001b[0m\u001b[1;33m\u001b[0m\u001b[0m\n\u001b[0;32m    249\u001b[0m         \u001b[0mself\u001b[0m\u001b[1;33m.\u001b[0m\u001b[0m_compute_plot_data\u001b[0m\u001b[1;33m(\u001b[0m\u001b[1;33m)\u001b[0m\u001b[1;33m\u001b[0m\u001b[1;33m\u001b[0m\u001b[0m\n\u001b[1;32m--> 250\u001b[1;33m         \u001b[0mself\u001b[0m\u001b[1;33m.\u001b[0m\u001b[0m_setup_subplots\u001b[0m\u001b[1;33m(\u001b[0m\u001b[1;33m)\u001b[0m\u001b[1;33m\u001b[0m\u001b[1;33m\u001b[0m\u001b[0m\n\u001b[0m\u001b[0;32m    251\u001b[0m         \u001b[0mself\u001b[0m\u001b[1;33m.\u001b[0m\u001b[0m_make_plot\u001b[0m\u001b[1;33m(\u001b[0m\u001b[1;33m)\u001b[0m\u001b[1;33m\u001b[0m\u001b[1;33m\u001b[0m\u001b[0m\n\u001b[0;32m    252\u001b[0m         \u001b[0mself\u001b[0m\u001b[1;33m.\u001b[0m\u001b[0m_add_table\u001b[0m\u001b[1;33m(\u001b[0m\u001b[1;33m)\u001b[0m\u001b[1;33m\u001b[0m\u001b[1;33m\u001b[0m\u001b[0m\n",
      "\u001b[1;32m~\\AppData\\Local\\Continuum\\anaconda3\\envs\\PythonData\\lib\\site-packages\\pandas\\plotting\\_core.py\u001b[0m in \u001b[0;36m_setup_subplots\u001b[1;34m(self)\u001b[0m\n\u001b[0;32m    299\u001b[0m         \u001b[1;32melse\u001b[0m\u001b[1;33m:\u001b[0m\u001b[1;33m\u001b[0m\u001b[1;33m\u001b[0m\u001b[0m\n\u001b[0;32m    300\u001b[0m             \u001b[1;32mif\u001b[0m \u001b[0mself\u001b[0m\u001b[1;33m.\u001b[0m\u001b[0max\u001b[0m \u001b[1;32mis\u001b[0m \u001b[1;32mNone\u001b[0m\u001b[1;33m:\u001b[0m\u001b[1;33m\u001b[0m\u001b[1;33m\u001b[0m\u001b[0m\n\u001b[1;32m--> 301\u001b[1;33m                 \u001b[0mfig\u001b[0m \u001b[1;33m=\u001b[0m \u001b[0mself\u001b[0m\u001b[1;33m.\u001b[0m\u001b[0mplt\u001b[0m\u001b[1;33m.\u001b[0m\u001b[0mfigure\u001b[0m\u001b[1;33m(\u001b[0m\u001b[0mfigsize\u001b[0m\u001b[1;33m=\u001b[0m\u001b[0mself\u001b[0m\u001b[1;33m.\u001b[0m\u001b[0mfigsize\u001b[0m\u001b[1;33m)\u001b[0m\u001b[1;33m\u001b[0m\u001b[1;33m\u001b[0m\u001b[0m\n\u001b[0m\u001b[0;32m    302\u001b[0m                 \u001b[0maxes\u001b[0m \u001b[1;33m=\u001b[0m \u001b[0mfig\u001b[0m\u001b[1;33m.\u001b[0m\u001b[0madd_subplot\u001b[0m\u001b[1;33m(\u001b[0m\u001b[1;36m111\u001b[0m\u001b[1;33m)\u001b[0m\u001b[1;33m\u001b[0m\u001b[1;33m\u001b[0m\u001b[0m\n\u001b[0;32m    303\u001b[0m             \u001b[1;32melse\u001b[0m\u001b[1;33m:\u001b[0m\u001b[1;33m\u001b[0m\u001b[1;33m\u001b[0m\u001b[0m\n",
      "\u001b[1;32m~\\AppData\\Local\\Continuum\\anaconda3\\envs\\PythonData\\lib\\site-packages\\matplotlib\\pyplot.py\u001b[0m in \u001b[0;36mfigure\u001b[1;34m(num, figsize, dpi, facecolor, edgecolor, frameon, FigureClass, clear, **kwargs)\u001b[0m\n\u001b[0;32m    523\u001b[0m                                         \u001b[0mframeon\u001b[0m\u001b[1;33m=\u001b[0m\u001b[0mframeon\u001b[0m\u001b[1;33m,\u001b[0m\u001b[1;33m\u001b[0m\u001b[1;33m\u001b[0m\u001b[0m\n\u001b[0;32m    524\u001b[0m                                         \u001b[0mFigureClass\u001b[0m\u001b[1;33m=\u001b[0m\u001b[0mFigureClass\u001b[0m\u001b[1;33m,\u001b[0m\u001b[1;33m\u001b[0m\u001b[1;33m\u001b[0m\u001b[0m\n\u001b[1;32m--> 525\u001b[1;33m                                         **kwargs)\n\u001b[0m\u001b[0;32m    526\u001b[0m \u001b[1;33m\u001b[0m\u001b[0m\n\u001b[0;32m    527\u001b[0m         \u001b[1;32mif\u001b[0m \u001b[0mfigLabel\u001b[0m\u001b[1;33m:\u001b[0m\u001b[1;33m\u001b[0m\u001b[1;33m\u001b[0m\u001b[0m\n",
      "\u001b[1;32m~\\AppData\\Local\\Continuum\\anaconda3\\envs\\PythonData\\lib\\site-packages\\matplotlib\\backend_bases.py\u001b[0m in \u001b[0;36mnew_figure_manager\u001b[1;34m(cls, num, *args, **kwargs)\u001b[0m\n\u001b[0;32m   3215\u001b[0m         \u001b[1;32mfrom\u001b[0m \u001b[0mmatplotlib\u001b[0m\u001b[1;33m.\u001b[0m\u001b[0mfigure\u001b[0m \u001b[1;32mimport\u001b[0m \u001b[0mFigure\u001b[0m\u001b[1;33m\u001b[0m\u001b[1;33m\u001b[0m\u001b[0m\n\u001b[0;32m   3216\u001b[0m         \u001b[0mfig_cls\u001b[0m \u001b[1;33m=\u001b[0m \u001b[0mkwargs\u001b[0m\u001b[1;33m.\u001b[0m\u001b[0mpop\u001b[0m\u001b[1;33m(\u001b[0m\u001b[1;34m'FigureClass'\u001b[0m\u001b[1;33m,\u001b[0m \u001b[0mFigure\u001b[0m\u001b[1;33m)\u001b[0m\u001b[1;33m\u001b[0m\u001b[1;33m\u001b[0m\u001b[0m\n\u001b[1;32m-> 3217\u001b[1;33m         \u001b[0mfig\u001b[0m \u001b[1;33m=\u001b[0m \u001b[0mfig_cls\u001b[0m\u001b[1;33m(\u001b[0m\u001b[1;33m*\u001b[0m\u001b[0margs\u001b[0m\u001b[1;33m,\u001b[0m \u001b[1;33m**\u001b[0m\u001b[0mkwargs\u001b[0m\u001b[1;33m)\u001b[0m\u001b[1;33m\u001b[0m\u001b[1;33m\u001b[0m\u001b[0m\n\u001b[0m\u001b[0;32m   3218\u001b[0m         \u001b[1;32mreturn\u001b[0m \u001b[0mcls\u001b[0m\u001b[1;33m.\u001b[0m\u001b[0mnew_figure_manager_given_figure\u001b[0m\u001b[1;33m(\u001b[0m\u001b[0mnum\u001b[0m\u001b[1;33m,\u001b[0m \u001b[0mfig\u001b[0m\u001b[1;33m)\u001b[0m\u001b[1;33m\u001b[0m\u001b[1;33m\u001b[0m\u001b[0m\n\u001b[0;32m   3219\u001b[0m \u001b[1;33m\u001b[0m\u001b[0m\n",
      "\u001b[1;32m~\\AppData\\Local\\Continuum\\anaconda3\\envs\\PythonData\\lib\\site-packages\\matplotlib\\figure.py\u001b[0m in \u001b[0;36m__init__\u001b[1;34m(self, figsize, dpi, facecolor, edgecolor, linewidth, frameon, subplotpars, tight_layout, constrained_layout)\u001b[0m\n\u001b[0;32m    354\u001b[0m             raise ValueError('figure size must be finite not '\n\u001b[0;32m    355\u001b[0m                              '{}'.format(figsize))\n\u001b[1;32m--> 356\u001b[1;33m         \u001b[0mself\u001b[0m\u001b[1;33m.\u001b[0m\u001b[0mbbox_inches\u001b[0m \u001b[1;33m=\u001b[0m \u001b[0mBbox\u001b[0m\u001b[1;33m.\u001b[0m\u001b[0mfrom_bounds\u001b[0m\u001b[1;33m(\u001b[0m\u001b[1;36m0\u001b[0m\u001b[1;33m,\u001b[0m \u001b[1;36m0\u001b[0m\u001b[1;33m,\u001b[0m \u001b[1;33m*\u001b[0m\u001b[0mfigsize\u001b[0m\u001b[1;33m)\u001b[0m\u001b[1;33m\u001b[0m\u001b[1;33m\u001b[0m\u001b[0m\n\u001b[0m\u001b[0;32m    357\u001b[0m \u001b[1;33m\u001b[0m\u001b[0m\n\u001b[0;32m    358\u001b[0m         \u001b[0mself\u001b[0m\u001b[1;33m.\u001b[0m\u001b[0mdpi_scale_trans\u001b[0m \u001b[1;33m=\u001b[0m \u001b[0mAffine2D\u001b[0m\u001b[1;33m(\u001b[0m\u001b[1;33m)\u001b[0m\u001b[1;33m.\u001b[0m\u001b[0mscale\u001b[0m\u001b[1;33m(\u001b[0m\u001b[0mdpi\u001b[0m\u001b[1;33m,\u001b[0m \u001b[0mdpi\u001b[0m\u001b[1;33m)\u001b[0m\u001b[1;33m\u001b[0m\u001b[1;33m\u001b[0m\u001b[0m\n",
      "\u001b[1;31mTypeError\u001b[0m: from_bounds() argument after * must be an iterable, not float"
     ]
    }
   ],
   "source": [
    "# Get the total number of tickets by Year \n",
    "df_ticket_cl = df_ticket_cl.groupby('Creation Year')\n",
    "number_of_tickets_per_year = df_ticket_cl['Company'].count()\n",
    "tickets_per_year_df = pd.DataFrame(data = number_of_tickets_per_year,index = None).reset_index()\n",
    "tickets_per_year_df = tickets_per_year_df.rename(columns = {\"Creation Year\":\"Year\",\"Company\":\"Total Number of Tickets\"})\n",
    "  # Print out in the window\n",
    "print(tickets_per_year_df)\n",
    "# Tells matplotlib that we want to make a line graph \n",
    "total_tickets_per_year_chart = number_of_tickets_per_year.plot(kind = \"line\",grid=True,marker='^',title = \"Tickets per Year\",figsize = (10.5))                                                                                                             \n",
    "total_tickets_per_year_chart.set_xlabel(\"Year\")\n",
    "total_tickets_per_year_chart.set_ylabel(\"Total Ticket per Year\")\n",
    "plt.text(2018.5,250000,\"There is an increase in the usage of HRServices. \",bbox=dict(facecolor='green',alpha =0.75))\n",
    "  # Save Figure\n",
    "#plt.savefig(\"Images/Tickets_per_Year.png\",bbox_inches = \"tight\")\n",
    "  # Print out in the window\n",
    "plt.show()"
   ]
  },
  {
   "cell_type": "markdown",
   "metadata": {},
   "source": [
    "###  Monthly count\n",
    "\n",
    "The following graph has a month by month breakdown. Add analysis.. "
   ]
  },
  {
   "cell_type": "code",
   "execution_count": null,
   "metadata": {},
   "outputs": [],
   "source": [
    "    # Month by month breakdown declare DataFrame\n",
    "df_month = df_ticket_cl.loc[(df_ticket_cl[\"Creation Year\"] >= 2017) & (df_ticket_cl[\"Creation Year\"] <= 2020),:]\n",
    "df_ticket_month = df_month ['Creation Month'].value_counts()\n",
    "    # Print out in the window\n",
    "print(df_ticket_months)\n",
    "  \n",
    "#     #  Tells matplotlib that we want to make graph with months on X-axis and total number of tickets on Y-axis\n",
    "#     #  Formatting  importing python library Calendar to convert from month index to a month name\n",
    "# import calendar\n",
    "# mn=[calendar.month_name[int(x)] for x in df_ticket_month.index.values.tolist()]\n",
    "#     #  Add title, x axis label and y axis label.\n",
    "# ticket_chart = df_ticket_month.plot.bar(title = \"Total Tickets per Month \",width = 0.75,figsize = (10,5),rot = 30,alpha = 0.75 )\n",
    "# ticket_chart.set_xticklabels(mn)\n",
    "# ticket_chart.set_xlabel(\"Tickets Months\")\n",
    "# ticket_chart.set_ylabel(\"Total Tickets Count\")\n",
    "# plt.text(12,100000,\"The bars indicate ......\",bbox=dict(facecolor='lightblue',alpha =0.5))\n",
    "#     #   Save Figure\n",
    "# plt.savefig(\"Images/Tickets_per_Month.png\")\n",
    "#     #   Print out in the window\n",
    "# plt.show()"
   ]
  },
  {
   "cell_type": "code",
   "execution_count": null,
   "metadata": {},
   "outputs": [],
   "source": []
  },
  {
   "cell_type": "markdown",
   "metadata": {},
   "source": [
    "\n"
   ]
  },
  {
   "cell_type": "markdown",
   "metadata": {},
   "source": [
    "###  Daily Count\n",
    "\n",
    "The most popular time of the week to the employee call HRServices is..."
   ]
  },
  {
   "cell_type": "code",
   "execution_count": null,
   "metadata": {},
   "outputs": [],
   "source": [
    "    # Slice dataframe by day of the week to find out the most popular day.\n",
    "busy_day = df_ticket_cl['Creation_day_of_week'].value_counts()\n",
    "    # Print out in the window\n",
    "print(busy_day)\n",
    "#     # Add the legend\n",
    "# plt.xlabel = \"Days of a week \"\n",
    "# plt.ylabel = \"Ticket count\"\n",
    "# week_chart = busy_day.plot(kind = \"bar\" , title = \" Busiest Day of the Week  \",width = 0.75,figsize = (10,5),rot = 30,alpha = 0.75)\n",
    "# plt.text(6.9,190000,\"XXX is the most popular day of the week.\",bbox=dict(facecolor='lightblue',alpha =0.5))\n",
    "#     # Save Figure\n",
    "# #plt.savefig(\"Images/Busy_Week.png\",bbox_inches = \"tight\")\n",
    "#      # Print out in the window\n",
    "# plt.show()"
   ]
  },
  {
   "cell_type": "code",
   "execution_count": null,
   "metadata": {},
   "outputs": [],
   "source": []
  },
  {
   "cell_type": "markdown",
   "metadata": {},
   "source": [
    "### Hourly Count\n",
    "\n",
    "In this section we see that that the xxxxx hours are the most popular from xx through xxx \n"
   ]
  },
  {
   "cell_type": "code",
   "execution_count": null,
   "metadata": {},
   "outputs": [],
   "source": [
    "   # Declare dataframes for the busiest hour of the day \n",
    "busy_hour = df_service_cl['Creation Time'].value_counts()\n",
    "   # Print out in the window\n",
    "print(busy_hour)\n",
    "#    # Create the bar chart and add title, x axis label and y axis label.\n",
    "# hour_chart = busy_hour.plot(kind = \"bar\" , title = \"Busiest Hour of the Day\",width = 0.75,figsize = (13,5),rot = 0,alpha = 0.75)\n",
    "# hour_chart.set_xlabel(\"Hour of the Day\")\n",
    "# hour_chart.set_ylabel(\"Ticket Count\")\n",
    "# plt.text(24,80000,\"xxxxxx are the peak hours.\",bbox=dict(facecolor='Lightblue',alpha =0.5))\n",
    "#   # Save Figure\n",
    "# # plt.savefig(\"Images/Busy_Hour.png\",bbox_inches=\"tight\")\n",
    "#   # Print out in the window\n",
    "# plt.show()"
   ]
  },
  {
   "cell_type": "code",
   "execution_count": null,
   "metadata": {
    "scrolled": true
   },
   "outputs": [],
   "source": []
  },
  {
   "cell_type": "markdown",
   "metadata": {},
   "source": [
    "### Daily and Houly Count Combined\n",
    "\n",
    "A heatmap by week day and hour ...."
   ]
  },
  {
   "cell_type": "code",
   "execution_count": null,
   "metadata": {},
   "outputs": [],
   "source": [
    "#   # Create an array of the days of the week \n",
    "# days_arr = [\"Monday\",\"Tuesday\", \"Wednesday\", \"Thursday\", \"Friday\", \"Saturday\", \"Sunday\"]\n",
    "\n",
    "# # Create function that returns the correct day of the week \n",
    "# def get_day_of_week(x):\n",
    "#     return days_arr[x.weekday()]\n",
    "\n",
    "# # Use seaborn to create heat map \n",
    "# df_heat = df_service_cl.groupby([\"Creation Time\", \"Creation_day_of_week\"])[\"Case ID \"].size().reset_index()\n",
    "# df_heat2 = df_heat.pivot(\"Creation Time\", \"Creation_day_of_week\", \"Case ID \")\n",
    "# fig, ax = plt.subplots(figsize=(10,8))       \n",
    "# sns.heatmap(df_heat2[days_arr] , cmap=\"YlOrRd\")\n",
    "# plt.title(\"Total Number of Tickets by the Hour and Day of the Week.\")\n",
    "\n",
    "# # Save heatmap image\n",
    "# # plt.savefig(\"Images/Hours-day.png\")\n",
    "# plt.show()"
   ]
  },
  {
   "cell_type": "code",
   "execution_count": null,
   "metadata": {},
   "outputs": [],
   "source": []
  }
 ],
 "metadata": {
  "kernelspec": {
   "display_name": "Python 3",
   "language": "python",
   "name": "python3"
  },
  "language_info": {
   "codemirror_mode": {
    "name": "ipython",
    "version": 3
   },
   "file_extension": ".py",
   "mimetype": "text/x-python",
   "name": "python",
   "nbconvert_exporter": "python",
   "pygments_lexer": "ipython3",
   "version": "3.6.7"
  }
 },
 "nbformat": 4,
 "nbformat_minor": 2
}
