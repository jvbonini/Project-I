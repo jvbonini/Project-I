{
 "cells": [
  {
   "cell_type": "markdown",
   "metadata": {},
   "source": [
    "##  Dependencies and Setup"
   ]
  },
  {
   "cell_type": "code",
   "execution_count": 1,
   "metadata": {},
   "outputs": [],
   "source": [
    "  # Importing library\n",
    "%matplotlib inline"
   ]
  },
  {
   "cell_type": "code",
   "execution_count": 2,
   "metadata": {},
   "outputs": [],
   "source": [
    "  # Importing external packages\n",
    "import numpy as np\n",
    "import matplotlib.patches as mpatches\n",
    "import requests\n",
    "import pandas as pd\n",
    "import seaborn as sns"
   ]
  },
  {
   "cell_type": "code",
   "execution_count": 3,
   "metadata": {},
   "outputs": [],
   "source": [
    "  # File to Load \n",
    "ticket_data = \"output_data//cleansed_dataframe.xlsx\""
   ]
  },
  {
   "cell_type": "code",
   "execution_count": 4,
   "metadata": {},
   "outputs": [
    {
     "data": {
      "text/html": [
       "<div>\n",
       "<style scoped>\n",
       "    .dataframe tbody tr th:only-of-type {\n",
       "        vertical-align: middle;\n",
       "    }\n",
       "\n",
       "    .dataframe tbody tr th {\n",
       "        vertical-align: top;\n",
       "    }\n",
       "\n",
       "    .dataframe thead th {\n",
       "        text-align: right;\n",
       "    }\n",
       "</style>\n",
       "<table border=\"1\" class=\"dataframe\">\n",
       "  <thead>\n",
       "    <tr style=\"text-align: right;\">\n",
       "      <th></th>\n",
       "      <th>Case ID</th>\n",
       "      <th>Company</th>\n",
       "      <th>Region</th>\n",
       "      <th>Status</th>\n",
       "      <th>Source</th>\n",
       "      <th>Current Agent</th>\n",
       "      <th>Creation Date</th>\n",
       "      <th>Due Date</th>\n",
       "      <th>Closed Date</th>\n",
       "      <th>Service Group</th>\n",
       "      <th>...</th>\n",
       "      <th>Due_Date</th>\n",
       "      <th>Due Time</th>\n",
       "      <th>Due Year</th>\n",
       "      <th>Due Month</th>\n",
       "      <th>Due Day</th>\n",
       "      <th>Due_day_of_week</th>\n",
       "      <th>Closed_Date</th>\n",
       "      <th>Closed Time</th>\n",
       "      <th>Pended_Date</th>\n",
       "      <th>Pended Time</th>\n",
       "    </tr>\n",
       "  </thead>\n",
       "  <tbody>\n",
       "    <tr>\n",
       "      <th>0</th>\n",
       "      <td>8111665</td>\n",
       "      <td>AU</td>\n",
       "      <td>APAC</td>\n",
       "      <td>Closed</td>\n",
       "      <td>E-mail</td>\n",
       "      <td>MYHRW_JuliusB</td>\n",
       "      <td>11/05/18  22:07</td>\n",
       "      <td>11/20/18  21:00</td>\n",
       "      <td>11/16/18  07:45</td>\n",
       "      <td>MyHRW</td>\n",
       "      <td>...</td>\n",
       "      <td>2018-11-20</td>\n",
       "      <td>21:00:00</td>\n",
       "      <td>2018</td>\n",
       "      <td>11</td>\n",
       "      <td>20</td>\n",
       "      <td>Tuesday</td>\n",
       "      <td>2018-11-16</td>\n",
       "      <td>07:45:00</td>\n",
       "      <td>NaT</td>\n",
       "      <td>NaN</td>\n",
       "    </tr>\n",
       "    <tr>\n",
       "      <th>1</th>\n",
       "      <td>8111974</td>\n",
       "      <td>AU</td>\n",
       "      <td>APAC</td>\n",
       "      <td>Closed</td>\n",
       "      <td>E-mail</td>\n",
       "      <td>MyHRW_AdamSu</td>\n",
       "      <td>11/05/18  23:00</td>\n",
       "      <td>11/13/18  22:01</td>\n",
       "      <td>11/05/18  23:21</td>\n",
       "      <td>MyHRW</td>\n",
       "      <td>...</td>\n",
       "      <td>2018-11-13</td>\n",
       "      <td>22:01:00</td>\n",
       "      <td>2018</td>\n",
       "      <td>11</td>\n",
       "      <td>13</td>\n",
       "      <td>Tuesday</td>\n",
       "      <td>2018-11-05</td>\n",
       "      <td>23:21:00</td>\n",
       "      <td>NaT</td>\n",
       "      <td>NaN</td>\n",
       "    </tr>\n",
       "    <tr>\n",
       "      <th>2</th>\n",
       "      <td>8112663</td>\n",
       "      <td>AU</td>\n",
       "      <td>APAC</td>\n",
       "      <td>Closed</td>\n",
       "      <td>E-mail</td>\n",
       "      <td>MyHRW_AdamSu</td>\n",
       "      <td>11/06/18  04:18</td>\n",
       "      <td>11/07/18  22:01</td>\n",
       "      <td>11/06/18  04:52</td>\n",
       "      <td>MyHRW</td>\n",
       "      <td>...</td>\n",
       "      <td>2018-11-07</td>\n",
       "      <td>22:01:00</td>\n",
       "      <td>2018</td>\n",
       "      <td>11</td>\n",
       "      <td>7</td>\n",
       "      <td>Wednesday</td>\n",
       "      <td>2018-11-06</td>\n",
       "      <td>04:52:00</td>\n",
       "      <td>NaT</td>\n",
       "      <td>NaN</td>\n",
       "    </tr>\n",
       "    <tr>\n",
       "      <th>3</th>\n",
       "      <td>8112727</td>\n",
       "      <td>AU</td>\n",
       "      <td>APAC</td>\n",
       "      <td>Closed</td>\n",
       "      <td>Interface</td>\n",
       "      <td>MyHRW_AdamSu</td>\n",
       "      <td>11/06/18  04:58</td>\n",
       "      <td>11/08/18  22:01</td>\n",
       "      <td>11/06/18  05:04</td>\n",
       "      <td>MyHRW</td>\n",
       "      <td>...</td>\n",
       "      <td>2018-11-08</td>\n",
       "      <td>22:01:00</td>\n",
       "      <td>2018</td>\n",
       "      <td>11</td>\n",
       "      <td>8</td>\n",
       "      <td>Thursday</td>\n",
       "      <td>2018-11-06</td>\n",
       "      <td>05:04:00</td>\n",
       "      <td>NaT</td>\n",
       "      <td>NaN</td>\n",
       "    </tr>\n",
       "    <tr>\n",
       "      <th>4</th>\n",
       "      <td>8112910</td>\n",
       "      <td>AU</td>\n",
       "      <td>APAC</td>\n",
       "      <td>Closed</td>\n",
       "      <td>E-mail</td>\n",
       "      <td>MYHRW_JuliusB</td>\n",
       "      <td>11/06/18  06:06</td>\n",
       "      <td>11/13/18  22:01</td>\n",
       "      <td>11/06/18  07:31</td>\n",
       "      <td>MyHRW</td>\n",
       "      <td>...</td>\n",
       "      <td>2018-11-13</td>\n",
       "      <td>22:01:00</td>\n",
       "      <td>2018</td>\n",
       "      <td>11</td>\n",
       "      <td>13</td>\n",
       "      <td>Tuesday</td>\n",
       "      <td>2018-11-06</td>\n",
       "      <td>07:31:00</td>\n",
       "      <td>NaT</td>\n",
       "      <td>NaN</td>\n",
       "    </tr>\n",
       "  </tbody>\n",
       "</table>\n",
       "<p>5 rows × 38 columns</p>\n",
       "</div>"
      ],
      "text/plain": [
       "   Case ID  Company Region  Status     Source  Current Agent  \\\n",
       "0   8111665      AU   APAC  Closed     E-mail  MYHRW_JuliusB   \n",
       "1   8111974      AU   APAC  Closed     E-mail   MyHRW_AdamSu   \n",
       "2   8112663      AU   APAC  Closed     E-mail   MyHRW_AdamSu   \n",
       "3   8112727      AU   APAC  Closed  Interface   MyHRW_AdamSu   \n",
       "4   8112910      AU   APAC  Closed     E-mail  MYHRW_JuliusB   \n",
       "\n",
       "       Creation Date           Due Date        Closed Date Service Group  ...  \\\n",
       "0   11/05/18  22:07    11/20/18  21:00    11/16/18  07:45          MyHRW  ...   \n",
       "1   11/05/18  23:00    11/13/18  22:01    11/05/18  23:21          MyHRW  ...   \n",
       "2   11/06/18  04:18    11/07/18  22:01    11/06/18  04:52          MyHRW  ...   \n",
       "3   11/06/18  04:58    11/08/18  22:01    11/06/18  05:04          MyHRW  ...   \n",
       "4   11/06/18  06:06    11/13/18  22:01    11/06/18  07:31          MyHRW  ...   \n",
       "\n",
       "    Due_Date  Due Time Due Year Due Month Due Day Due_day_of_week Closed_Date  \\\n",
       "0 2018-11-20  21:00:00     2018        11      20         Tuesday  2018-11-16   \n",
       "1 2018-11-13  22:01:00     2018        11      13         Tuesday  2018-11-05   \n",
       "2 2018-11-07  22:01:00     2018        11       7       Wednesday  2018-11-06   \n",
       "3 2018-11-08  22:01:00     2018        11       8        Thursday  2018-11-06   \n",
       "4 2018-11-13  22:01:00     2018        11      13         Tuesday  2018-11-06   \n",
       "\n",
       "   Closed Time  Pended_Date Pended Time  \n",
       "0     07:45:00          NaT         NaN  \n",
       "1     23:21:00          NaT         NaN  \n",
       "2     04:52:00          NaT         NaN  \n",
       "3     05:04:00          NaT         NaN  \n",
       "4     07:31:00          NaT         NaN  \n",
       "\n",
       "[5 rows x 38 columns]"
      ]
     },
     "execution_count": 4,
     "metadata": {},
     "output_type": "execute_result"
    }
   ],
   "source": [
    "  # Read the Ticket file and store Pandas data frame\n",
    "df_ticket_cl = pd.read_excel(ticket_data)\n",
    "\n",
    "  # Print out in the window\n",
    "df_ticket_cl.head()"
   ]
  },
  {
   "cell_type": "markdown",
   "metadata": {},
   "source": [
    "### Yearly Count\n",
    "\n",
    "The following graph has a year by year breakdown of tickets."
   ]
  },
  {
   "cell_type": "code",
   "execution_count": 5,
   "metadata": {},
   "outputs": [
    {
     "data": {
      "text/html": [
       "<div>\n",
       "<style scoped>\n",
       "    .dataframe tbody tr th:only-of-type {\n",
       "        vertical-align: middle;\n",
       "    }\n",
       "\n",
       "    .dataframe tbody tr th {\n",
       "        vertical-align: top;\n",
       "    }\n",
       "\n",
       "    .dataframe thead th {\n",
       "        text-align: right;\n",
       "    }\n",
       "</style>\n",
       "<table border=\"1\" class=\"dataframe\">\n",
       "  <thead>\n",
       "    <tr style=\"text-align: right;\">\n",
       "      <th></th>\n",
       "      <th>Year</th>\n",
       "      <th>Total Number of Tickets</th>\n",
       "    </tr>\n",
       "  </thead>\n",
       "  <tbody>\n",
       "    <tr>\n",
       "      <th>0</th>\n",
       "      <td>2018</td>\n",
       "      <td>39519</td>\n",
       "    </tr>\n",
       "    <tr>\n",
       "      <th>1</th>\n",
       "      <td>2019</td>\n",
       "      <td>25167</td>\n",
       "    </tr>\n",
       "  </tbody>\n",
       "</table>\n",
       "</div>"
      ],
      "text/plain": [
       "   Year  Total Number of Tickets\n",
       "0  2018                    39519\n",
       "1  2019                    25167"
      ]
     },
     "execution_count": 5,
     "metadata": {},
     "output_type": "execute_result"
    }
   ],
   "source": [
    "# Get the total number of tickets by Year \n",
    "df_ticket_cl= df_ticket_cl.groupby('Creation Year')\n",
    "number_of_tickets_per_year = df_ticket_cl['Company'].count()\n",
    "tickets_per_year_df = pd.DataFrame(data = number_of_tickets_per_year,index = None).reset_index()\n",
    "tickets_per_year_df = tickets_per_year_df.rename(columns = {\"Creation Year\":\"Year\",\"Company\":\"Total Number of Tickets\"})\n",
    "tickets_per_year_df"
   ]
  },
  {
   "cell_type": "code",
   "execution_count": 6,
   "metadata": {},
   "outputs": [
    {
     "data": {
      "image/png": "[encoded data removed]",
      "text/plain": [
       "<Figure size 432x288 with 1 Axes>"
      ]
     },
     "metadata": {
      "needs_background": "light"
     },
     "output_type": "display_data"
    }
   ],
   "source": [
    " ax = tickets_per_year_df.plot.bar(x='Year', y='Total Number of Tickets', rot=90, color='b')\n",
    "#   # Save Figure\n",
    "# #plt.savefig(\"Images/Tickets_per_Year.png\",bbox_inches = \"tight\")"
   ]
  },
  {
   "cell_type": "markdown",
   "metadata": {},
   "source": [
    "###  Monthly count\n",
    "\n",
    "The following graph has a month by month breakdown."
   ]
  },
  {
   "cell_type": "code",
   "execution_count": 7,
   "metadata": {},
   "outputs": [
    {
     "ename": "AttributeError",
     "evalue": "Cannot access callable attribute 'groupby' of 'DataFrameGroupBy' objects, try using the 'apply' method",
     "output_type": "error",
     "traceback": [
      "\u001b[1;31m---------------------------------------------------------------------------\u001b[0m",
      "\u001b[1;31mAttributeError\u001b[0m                            Traceback (most recent call last)",
      "\u001b[1;32m<ipython-input-7-3891750b97af>\u001b[0m in \u001b[0;36m<module>\u001b[1;34m\u001b[0m\n\u001b[0;32m      1\u001b[0m \u001b[1;31m# Get the total number of tickets by Month\u001b[0m\u001b[1;33m\u001b[0m\u001b[1;33m\u001b[0m\u001b[1;33m\u001b[0m\u001b[0m\n\u001b[1;32m----> 2\u001b[1;33m \u001b[0mdf_ticket_cl\u001b[0m \u001b[1;33m=\u001b[0m \u001b[0mdf_ticket_cl\u001b[0m\u001b[1;33m.\u001b[0m\u001b[0mgroupby\u001b[0m\u001b[1;33m(\u001b[0m\u001b[1;34m'Creation Month'\u001b[0m\u001b[1;33m)\u001b[0m\u001b[1;33m\u001b[0m\u001b[1;33m\u001b[0m\u001b[0m\n\u001b[0m\u001b[0;32m      3\u001b[0m \u001b[0mnumber_of_tickets_per_month\u001b[0m \u001b[1;33m=\u001b[0m \u001b[0mdf_ticket_cl\u001b[0m\u001b[1;33m[\u001b[0m\u001b[1;34m'Company'\u001b[0m\u001b[1;33m]\u001b[0m\u001b[1;33m.\u001b[0m\u001b[0mcount\u001b[0m\u001b[1;33m(\u001b[0m\u001b[1;33m)\u001b[0m\u001b[1;33m\u001b[0m\u001b[1;33m\u001b[0m\u001b[0m\n\u001b[0;32m      4\u001b[0m \u001b[0mtickets_per_month_df\u001b[0m \u001b[1;33m=\u001b[0m \u001b[0mpd\u001b[0m\u001b[1;33m.\u001b[0m\u001b[0mDataFrame\u001b[0m\u001b[1;33m(\u001b[0m\u001b[0mdata\u001b[0m \u001b[1;33m=\u001b[0m \u001b[0mnumber_of_tickets_per_month\u001b[0m\u001b[1;33m,\u001b[0m\u001b[0mindex\u001b[0m \u001b[1;33m=\u001b[0m \u001b[1;32mNone\u001b[0m\u001b[1;33m)\u001b[0m\u001b[1;33m.\u001b[0m\u001b[0mreset_index\u001b[0m\u001b[1;33m(\u001b[0m\u001b[1;33m)\u001b[0m\u001b[1;33m\u001b[0m\u001b[1;33m\u001b[0m\u001b[0m\n\u001b[0;32m      5\u001b[0m \u001b[0mtickets_per_month_df\u001b[0m \u001b[1;33m=\u001b[0m \u001b[0mtickets_per_month_df\u001b[0m\u001b[1;33m.\u001b[0m\u001b[0mrename\u001b[0m\u001b[1;33m(\u001b[0m\u001b[0mcolumns\u001b[0m \u001b[1;33m=\u001b[0m \u001b[1;33m{\u001b[0m\u001b[1;34m\"Creation Month\"\u001b[0m\u001b[1;33m:\u001b[0m\u001b[1;34m\"Month\"\u001b[0m\u001b[1;33m,\u001b[0m\u001b[1;34m\"Company\"\u001b[0m\u001b[1;33m:\u001b[0m\u001b[1;34m\"Total Number of Tickets\"\u001b[0m\u001b[1;33m}\u001b[0m\u001b[1;33m)\u001b[0m\u001b[1;33m\u001b[0m\u001b[1;33m\u001b[0m\u001b[0m\n",
      "\u001b[1;32m~\\AppData\\Local\\Continuum\\anaconda3\\envs\\PythonData\\lib\\site-packages\\pandas\\core\\groupby\\groupby.py\u001b[0m in \u001b[0;36m__getattr__\u001b[1;34m(self, attr)\u001b[0m\n\u001b[0;32m    531\u001b[0m             \u001b[1;32mreturn\u001b[0m \u001b[0mself\u001b[0m\u001b[1;33m[\u001b[0m\u001b[0mattr\u001b[0m\u001b[1;33m]\u001b[0m\u001b[1;33m\u001b[0m\u001b[1;33m\u001b[0m\u001b[0m\n\u001b[0;32m    532\u001b[0m         \u001b[1;32mif\u001b[0m \u001b[0mhasattr\u001b[0m\u001b[1;33m(\u001b[0m\u001b[0mself\u001b[0m\u001b[1;33m.\u001b[0m\u001b[0mobj\u001b[0m\u001b[1;33m,\u001b[0m \u001b[0mattr\u001b[0m\u001b[1;33m)\u001b[0m\u001b[1;33m:\u001b[0m\u001b[1;33m\u001b[0m\u001b[1;33m\u001b[0m\u001b[0m\n\u001b[1;32m--> 533\u001b[1;33m             \u001b[1;32mreturn\u001b[0m \u001b[0mself\u001b[0m\u001b[1;33m.\u001b[0m\u001b[0m_make_wrapper\u001b[0m\u001b[1;33m(\u001b[0m\u001b[0mattr\u001b[0m\u001b[1;33m)\u001b[0m\u001b[1;33m\u001b[0m\u001b[1;33m\u001b[0m\u001b[0m\n\u001b[0m\u001b[0;32m    534\u001b[0m \u001b[1;33m\u001b[0m\u001b[0m\n\u001b[0;32m    535\u001b[0m         raise AttributeError(\"%r object has no attribute %r\" %\n",
      "\u001b[1;32m~\\AppData\\Local\\Continuum\\anaconda3\\envs\\PythonData\\lib\\site-packages\\pandas\\core\\groupby\\groupby.py\u001b[0m in \u001b[0;36m_make_wrapper\u001b[1;34m(self, name)\u001b[0m\n\u001b[0;32m    568\u001b[0m                    \"using the 'apply' method\".format(kind, name,\n\u001b[0;32m    569\u001b[0m                                                      type(self).__name__))\n\u001b[1;32m--> 570\u001b[1;33m             \u001b[1;32mraise\u001b[0m \u001b[0mAttributeError\u001b[0m\u001b[1;33m(\u001b[0m\u001b[0mmsg\u001b[0m\u001b[1;33m)\u001b[0m\u001b[1;33m\u001b[0m\u001b[1;33m\u001b[0m\u001b[0m\n\u001b[0m\u001b[0;32m    571\u001b[0m \u001b[1;33m\u001b[0m\u001b[0m\n\u001b[0;32m    572\u001b[0m         \u001b[0mself\u001b[0m\u001b[1;33m.\u001b[0m\u001b[0m_set_group_selection\u001b[0m\u001b[1;33m(\u001b[0m\u001b[1;33m)\u001b[0m\u001b[1;33m\u001b[0m\u001b[1;33m\u001b[0m\u001b[0m\n",
      "\u001b[1;31mAttributeError\u001b[0m: Cannot access callable attribute 'groupby' of 'DataFrameGroupBy' objects, try using the 'apply' method"
     ]
    }
   ],
   "source": [
    "     # Get the total number of tickets by Month\n",
    "df_ticket_cl = df_ticket_cl.groupby('Creation Month')\n",
    "number_of_tickets_per_month = df_ticket_cl['Company'].count()\n",
    "tickets_per_month_df = pd.DataFrame(data = number_of_tickets_per_month,index = None).reset_index()\n",
    "tickets_per_month_df = tickets_per_month_df.rename(columns = {\"Creation Month\":\"Month\",\"Company\":\"Total Number of Tickets\"})\n",
    "tickets_per_month_df"
   ]
  },
  {
   "cell_type": "code",
   "execution_count": null,
   "metadata": {},
   "outputs": [],
   "source": [
    "#     #  Tells matplotlib that we want to make graph with months on X-axis and total number of tickets on Y-axis\n",
    "#     #  Formatting  importing python library Calendar to convert from month index to a month name\n",
    "# import calendar\n",
    "# mn=[calendar.month_name[int(x)] for x in df_ticket_month.index.values.tolist()]\n",
    "#     #  Add title, x axis label and y axis label.\n",
    "# ticket_chart = df_ticket_month.plot.bar(title = \"Total Tickets per Month \",width = 0.75,figsize = (10,5),rot = 30,alpha = 0.75 )\n",
    "# ticket_chart.set_xticklabels(mn)\n",
    "# ticket_chart.set_xlabel(\"Tickets Months\")\n",
    "# ticket_chart.set_ylabel(\"Total Tickets Count\")\n",
    "# plt.text(12,100000,\"The bars indicate ......\",bbox=dict(facecolor='lightblue',alpha =0.5))\n",
    "#     #   Save Figure\n",
    "# plt.savefig(\"Images/Tickets_per_Month.png\")\n",
    "#     #   Print out in the window\n",
    "# plt.show()"
   ]
  },
  {
   "cell_type": "markdown",
   "metadata": {},
   "source": [
    "\n"
   ]
  },
  {
   "cell_type": "markdown",
   "metadata": {},
   "source": [
    "###  Daily Count\n",
    "\n",
    "The most popular time of the week to the employee call HRServices is..."
   ]
  },
  {
   "cell_type": "code",
   "execution_count": null,
   "metadata": {},
   "outputs": [],
   "source": [
    "     # Get the total number of tickets by Month\n",
    "df_ticket_cl = df_ticket_cl.groupby('Creation_day_of_week')\n",
    "number_of_tickets_per_day = df_ticket_cl['Company'].count()\n",
    "tickets_per_day_df = pd.DataFrame(data = number_of_tickets_per_month,index = None).reset_index()\n",
    "tickets_per_day_df = tickets_per_day_df.rename(columns = {\"Creation_day_of_week\":\"Day\",\"Company\":\"Total Number of Tickets\"})\n",
    "tickets_per_day_df"
   ]
  },
  {
   "cell_type": "code",
   "execution_count": null,
   "metadata": {},
   "outputs": [],
   "source": [
    "#     # Add the legend\n",
    "# plt.xlabel = \"Days of a week \"\n",
    "# plt.ylabel = \"Ticket count\"\n",
    "# week_chart = busy_day.plot(kind = \"bar\" , title = \" Busiest Day of the Week  \",width = 0.75,figsize = (10,5),rot = 30,alpha = 0.75)\n",
    "# plt.text(6.9,190000,\"XXX is the most popular day of the week.\",bbox=dict(facecolor='lightblue',alpha =0.5))\n",
    "#     # Save Figure\n",
    "# #plt.savefig(\"Images/Busy_Week.png\",bbox_inches = \"tight\")\n",
    "#      # Print out in the window\n",
    "# plt.show()"
   ]
  },
  {
   "cell_type": "markdown",
   "metadata": {},
   "source": [
    "### Hourly Count\n",
    "\n",
    "In this section we see that that the xxxxx hours are the most popular from xx through xxx \n"
   ]
  },
  {
   "cell_type": "code",
   "execution_count": null,
   "metadata": {},
   "outputs": [],
   "source": [
    "     # Get the total number of tickets by Month\n",
    "df_ticket_cl = df_ticket_cl.groupby('Creation Time')\n",
    "number_of_tickets_per_hour = df_ticket_cl['Company'].count()\n",
    "tickets_per_hour_df = pd.DataFrame(data = number_of_tickets_per_hour,index = None).reset_index()\n",
    "tickets_per_hour_df = tickets_per_hour_df.rename(columns = {\"Creation Hour\":\"Hour\",\"Company\":\"Total Number of Tickets\"})\n",
    "tickets_per_hour_df"
   ]
  },
  {
   "cell_type": "code",
   "execution_count": null,
   "metadata": {},
   "outputs": [],
   "source": [
    "#    # Create the bar chart and add title, x axis label and y axis label.\n",
    "# hour_chart = busy_hour.plot(kind = \"bar\" , title = \"Busiest Hour of the Day\",width = 0.75,figsize = (13,5),rot = 0,alpha = 0.75)\n",
    "# hour_chart.set_xlabel(\"Hour of the Day\")\n",
    "# hour_chart.set_ylabel(\"Ticket Count\")\n",
    "# plt.text(24,80000,\"xxxxxx are the peak hours.\",bbox=dict(facecolor='Lightblue',alpha =0.5))\n",
    "#   # Save Figure\n",
    "# # plt.savefig(\"Images/Busy_Hour.png\",bbox_inches=\"tight\")\n",
    "#   # Print out in the window\n",
    "# plt.show()"
   ]
  },
  {
   "cell_type": "code",
   "execution_count": null,
   "metadata": {
    "scrolled": true
   },
   "outputs": [],
   "source": []
  },
  {
   "cell_type": "markdown",
   "metadata": {},
   "source": [
    "### Daily and Houly Count Combined\n",
    "\n",
    "A heatmap by week day and hour ...."
   ]
  },
  {
   "cell_type": "code",
   "execution_count": null,
   "metadata": {},
   "outputs": [],
   "source": [
    "# Use seaborn to create heat map \n",
    "df_heat = df_ticket_cl([\"Creation Time\", \"Creation_day_of_week\"])[\"Company\"].size().reset_index()\n",
    "df_heat2 = df_heat.pivot(\"Creation Time\", \"Creation_day_of_week\", \"Company\")\n",
    "fig, ax = plt.subplots(figsize=(10,8))       \n",
    "sns.heatmap(df_heat2[days_arr] , cmap=\"YlOrRd\")\n",
    "plt.title(\"Total Number of Tickets by the Hour and Day of the Week.\")\n",
    "\n",
    "# # Save image\n",
    "# # plt.savefig(\"Images/Hours-day.png\")\n",
    "# plt.show()"
   ]
  },
  {
   "cell_type": "code",
   "execution_count": null,
   "metadata": {},
   "outputs": [],
   "source": []
  }
 ],
 "metadata": {
  "kernelspec": {
   "display_name": "Python 3",
   "language": "python",
   "name": "python3"
  },
  "language_info": {
   "codemirror_mode": {
    "name": "ipython",
    "version": 3
   },
   "file_extension": ".py",
   "mimetype": "text/x-python",
   "name": "python",
   "nbconvert_exporter": "python",
   "pygments_lexer": "ipython3",
   "version": "3.6.7"
  }
 },
 "nbformat": 4,
 "nbformat_minor": 2
}
