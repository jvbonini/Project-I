{
 "cells": [
  {
   "cell_type": "code",
   "execution_count": 5,
   "metadata": {},
   "outputs": [
    {
     "name": "stdout",
     "output_type": "stream",
     "text": [
      "['Case ID ', 'Company', 'Region', 'Status', 'Source', 'Current Agent', 'Creation Date', 'Due Date', 'Closed Date', 'Service Group', 'Service', 'Pended Date', 'Pending Reason', 'Latest Communicated Date', 'User Group', 'Type', 'Service Center', 'Case Age (in days)', 'Days From Latest Communication', 'Systems', 'Requestor', 'Unnamed: 25', 'Creation_Date', 'Creation Time', 'Creation Year', 'Creation Month', 'Creation Day', 'Creation_day_of_week', 'Due_Date', 'Due Time', 'Due Year', 'Due Month', 'Due Day', 'Due_day_of_week', 'Closed_Date', 'Closed Time', 'Pended_Date', 'Pended Time']\n",
      "(64686, 38)\n"
     ]
    }
   ],
   "source": [
    "%matplotlib inline\n",
    "# Dependencies and Setup\n",
    "import matplotlib.pyplot as plt\n",
    "\n",
    "import numpy as np\n",
    "import matplotlib.patches as mpatches\n",
    "import requests\n",
    "import json\n",
    "\n",
    "\n",
    "import gmaps\n",
    "import pandas as pd\n",
    "\n",
    "# Google developer API key\n",
    "from config import gkey\n",
    "\n",
    "# Configure gmaps\n",
    "gmaps.configure(api_key=gkey)\n",
    "#Do the data stuff for the cities\n",
    "\n",
    "data_to_load = \"cleansed_dataframe.csv\"\n",
    "city_data = pd.read_csv(data_to_load)\n",
    "list_of_city_column_headers = list(city_data.columns.values)\n",
    "print(list_of_city_column_headers)\n",
    "print(city_data.shape)\n",
    "\n"
   ]
  },
  {
   "cell_type": "code",
   "execution_count": 6,
   "metadata": {},
   "outputs": [
    {
     "name": "stdout",
     "output_type": "stream",
     "text": [
      "['Jacksonville', 'Granada', 'Dalian', 'Katowice', 'Buenos Aires', 'Manila', 'St Johns', 'Washington DC']\n",
      "<class 'list'>\n",
      "[32455, 19711, 3104, 2927, 1876, 1735, 1688, 1190]\n",
      "<class 'list'>\n"
     ]
    }
   ],
   "source": [
    "service_center_ticket_counts = city_data['Service Center'].value_counts()\n",
    "\n",
    "service_center_ticket_counts_list = service_center_ticket_counts.tolist()\n",
    "service_centers_list = service_center_ticket_counts.index.tolist()\n",
    "service_centers_list = [sc.replace('US - AMO', 'Washington DC') for sc in service_centers_list]\n",
    "print(service_centers_list)\n",
    "print(type(service_centers_list))\n",
    "print(service_center_ticket_counts_list)\n",
    "print(type(service_center_ticket_counts_list))"
   ]
  },
  {
   "cell_type": "code",
   "execution_count": 7,
   "metadata": {},
   "outputs": [
    {
     "data": {
      "text/html": [
       "<div>\n",
       "<style scoped>\n",
       "    .dataframe tbody tr th:only-of-type {\n",
       "        vertical-align: middle;\n",
       "    }\n",
       "\n",
       "    .dataframe tbody tr th {\n",
       "        vertical-align: top;\n",
       "    }\n",
       "\n",
       "    .dataframe thead th {\n",
       "        text-align: right;\n",
       "    }\n",
       "</style>\n",
       "<table border=\"1\" class=\"dataframe\">\n",
       "  <thead>\n",
       "    <tr style=\"text-align: right;\">\n",
       "      <th></th>\n",
       "      <th>Service Center</th>\n",
       "      <th>Ticket Count</th>\n",
       "      <th>Latitude</th>\n",
       "      <th>Longitude</th>\n",
       "    </tr>\n",
       "  </thead>\n",
       "  <tbody>\n",
       "    <tr>\n",
       "      <th>0</th>\n",
       "      <td>Jacksonville</td>\n",
       "      <td>32455</td>\n",
       "      <td>30.332184</td>\n",
       "      <td>-81.655651</td>\n",
       "    </tr>\n",
       "    <tr>\n",
       "      <th>1</th>\n",
       "      <td>Granada</td>\n",
       "      <td>19711</td>\n",
       "      <td>37.177336</td>\n",
       "      <td>-3.598557</td>\n",
       "    </tr>\n",
       "    <tr>\n",
       "      <th>2</th>\n",
       "      <td>Dalian</td>\n",
       "      <td>3104</td>\n",
       "      <td>38.914003</td>\n",
       "      <td>121.614682</td>\n",
       "    </tr>\n",
       "    <tr>\n",
       "      <th>3</th>\n",
       "      <td>Katowice</td>\n",
       "      <td>2927</td>\n",
       "      <td>50.264892</td>\n",
       "      <td>19.023781</td>\n",
       "    </tr>\n",
       "    <tr>\n",
       "      <th>4</th>\n",
       "      <td>Buenos Aires</td>\n",
       "      <td>1876</td>\n",
       "      <td>-34.603684</td>\n",
       "      <td>-58.381559</td>\n",
       "    </tr>\n",
       "    <tr>\n",
       "      <th>5</th>\n",
       "      <td>Manila</td>\n",
       "      <td>1735</td>\n",
       "      <td>14.599512</td>\n",
       "      <td>120.984219</td>\n",
       "    </tr>\n",
       "    <tr>\n",
       "      <th>6</th>\n",
       "      <td>St Johns</td>\n",
       "      <td>1688</td>\n",
       "      <td>37.090240</td>\n",
       "      <td>-95.712891</td>\n",
       "    </tr>\n",
       "    <tr>\n",
       "      <th>7</th>\n",
       "      <td>Washington DC</td>\n",
       "      <td>1190</td>\n",
       "      <td>38.907192</td>\n",
       "      <td>-77.036871</td>\n",
       "    </tr>\n",
       "  </tbody>\n",
       "</table>\n",
       "</div>"
      ],
      "text/plain": [
       "  Service Center  Ticket Count   Latitude   Longitude\n",
       "0   Jacksonville         32455  30.332184  -81.655651\n",
       "1        Granada         19711  37.177336   -3.598557\n",
       "2         Dalian          3104  38.914003  121.614682\n",
       "3       Katowice          2927  50.264892   19.023781\n",
       "4   Buenos Aires          1876 -34.603684  -58.381559\n",
       "5         Manila          1735  14.599512  120.984219\n",
       "6       St Johns          1688  37.090240  -95.712891\n",
       "7  Washington DC          1190  38.907192  -77.036871"
      ]
     },
     "execution_count": 7,
     "metadata": {},
     "output_type": "execute_result"
    }
   ],
   "source": [
    "# Build the endpoint URL\n",
    "\n",
    "lats = []\n",
    "longs = []\n",
    "\n",
    "for target_city in service_centers_list:\n",
    "    target_url = ('https://maps.googleapis.com/maps/api/geocode/json?'\n",
    "    'address={0}&key={1}').format(target_city, gkey)\n",
    "\n",
    "    # Run a request to endpoint and convert result to json\n",
    "    geo_data = requests.get(target_url).json()\n",
    "\n",
    "    # Print the json\n",
    "    #print(geo_data)\n",
    "\n",
    "    # Extract latitude and longitude\n",
    "    lat = geo_data[\"results\"][0][\"geometry\"][\"location\"][\"lat\"]\n",
    "    lng = geo_data[\"results\"][0][\"geometry\"][\"location\"][\"lng\"]\n",
    "    \n",
    "    longs.append(lng)\n",
    "    lats.append(lat)\n",
    "    # Print the latitude and longitude\n",
    "    #print('''\n",
    "    #    City: {0}\n",
    "     #   Latitude: {1}\n",
    "       # Longitude: {2}\n",
    "       # '''.format(target_city, lat, lng))\n",
    "#print(lats)\n",
    "#print(longs)\n",
    "\n",
    "locations_dict = {'Service Center':service_centers_list,'Ticket Count':service_center_ticket_counts_list, \"Latitude\" : lats, \"Longitude\" : longs}\n",
    "locations_df = pd.DataFrame(locations_dict)\n",
    "locations_df"
   ]
  },
  {
   "cell_type": "code",
   "execution_count": 8,
   "metadata": {},
   "outputs": [],
   "source": [
    "# Store latitude and longitude in locations\n",
    "locations = locations_df[[\"Latitude\", \"Longitude\"]]\n",
    "\n",
    "# Fill NaN values and convert to float\n",
    "ticket_count = locations_df[\"Ticket Count\"].astype(float)"
   ]
  },
  {
   "cell_type": "code",
   "execution_count": 18,
   "metadata": {},
   "outputs": [
    {
     "data": {
      "application/vnd.jupyter.widget-view+json": {
       "model_id": "47366e4635b042afb57c3335f256e64f",
       "version_major": 2,
       "version_minor": 0
      },
      "text/plain": [
       "Figure(layout=FigureLayout(height='420px'))"
      ]
     },
     "metadata": {},
     "output_type": "display_data"
    }
   ],
   "source": [
    "# Plot Heatmap\n",
    "fig = gmaps.figure()\n",
    "\n",
    "# Create heat layer\n",
    "heat_layer = gmaps.heatmap_layer(locations, weights=ticket_count, \n",
    "                                 dissipating=False, max_intensity=25,\n",
    "                                 point_radius=2)\n",
    "\n",
    "\n",
    "# Add layer\n",
    "fig.add_layer(heat_layer)\n",
    "\n",
    "# Display figure\n",
    "fig"
   ]
  },
  {
   "cell_type": "code",
   "execution_count": 20,
   "metadata": {},
   "outputs": [
    {
     "data": {
      "application/vnd.jupyter.widget-view+json": {
       "model_id": "e5689aff3f464037bd4f47f45cb94ae2",
       "version_major": 2,
       "version_minor": 0
      },
      "text/plain": [
       "Figure(layout=FigureLayout(height='420px'))"
      ]
     },
     "metadata": {},
     "output_type": "display_data"
    }
   ],
   "source": [
    "# BONUS\n",
    "# Plost as a Hybrid map\n",
    "fig = gmaps.figure(map_type=\"HYBRID\")\n",
    "\n",
    "# Create heat layer\n",
    "heat_layer = gmaps.heatmap_layer(locations, weights=ticket_count, \n",
    "                                 dissipating=False, max_intensity=10,\n",
    "                                 point_radius=1)\n",
    "\n",
    "fig.add_layer(heat_layer)\n",
    "fig"
   ]
  },
  {
   "cell_type": "code",
   "execution_count": null,
   "metadata": {},
   "outputs": [],
   "source": []
  }
 ],
 "metadata": {
  "kernelspec": {
   "display_name": "Python 3",
   "language": "python",
   "name": "python3"
  },
  "language_info": {
   "codemirror_mode": {
    "name": "ipython",
    "version": 3
   },
   "file_extension": ".py",
   "mimetype": "text/x-python",
   "name": "python",
   "nbconvert_exporter": "python",
   "pygments_lexer": "ipython3",
   "version": "3.6.8"
  }
 },
 "nbformat": 4,
 "nbformat_minor": 2
}
