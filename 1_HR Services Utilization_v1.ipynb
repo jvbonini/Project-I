{
 "cells": [
  {
   "cell_type": "markdown",
   "metadata": {},
   "source": [
    "# Pypharma HRServices Data "
   ]
  },
  {
   "cell_type": "markdown",
   "metadata": {},
   "source": [
    "### Introduction \n",
    "\n",
    "This analysis contains available data provided by HR third part vendor. The CSV file that has data ready for analysis. \n",
    "\n",
    "* The first part of the analysis will look at the demand by year, month, day, and hour. \n",
    "* The second part will rank region and company. \n",
    "\n",
    "### Purpose: \n",
    "\n",
    "This analysis suggests a more efficient allocation of resources in order to meet employee demand times and locations. The implications of this analysis could also help the program determine the low demand times to schedule training.\n",
    "\n",
    "### Scope: \n",
    "\n",
    "The dataset starts from January 2014 and continues through December 2018. \n",
    "\n",
    "### Observable Trends \n",
    "\n",
    "* Demand for the service continues to increase with the current year having the most users ???. \n",
    "* The most popular month is ??????. \n",
    "* The most popular hour is ?????. \n",
    "* Busiest day of the week is ?????. \n",
    "* Most popular service: ???\n",
    "* Most popular requestor: ????"
   ]
  },
  {
   "cell_type": "markdown",
   "metadata": {},
   "source": [
    "##  Dependencies and Setup"
   ]
  },
  {
   "cell_type": "code",
   "execution_count": null,
   "metadata": {},
   "outputs": [],
   "source": [
    "  # Importing library\n",
    "%matplotlib inline"
   ]
  },
  {
   "cell_type": "code",
   "execution_count": null,
   "metadata": {},
   "outputs": [],
   "source": [
    "  # Importing external packages\n",
    "import matplotlib.pyplot as plt\n",
    "import pandas as pd\n",
    "import numpy as np"
   ]
  },
  {
   "cell_type": "code",
   "execution_count": null,
   "metadata": {},
   "outputs": [],
   "source": [
    "  # File to Load \n",
    "ticket_data = \"Resources//ticket_data.csv\""
   ]
  },
  {
   "cell_type": "code",
   "execution_count": null,
   "metadata": {},
   "outputs": [],
   "source": [
    "  # Read the Ticket file and store Pandas data frame\n",
    "df_ticket_cl = pd.read_csv(ticket_data)\n",
    "#ticket_data_df = ticket_data_df.drop_duplicates('city')\n",
    "   # Print out in the window\n",
    "df_ticket_cl.head()"
   ]
  },
  {
   "cell_type": "markdown",
   "metadata": {},
   "source": [
    "##  I. HR Services Utilization"
   ]
  },
  {
   "cell_type": "markdown",
   "metadata": {},
   "source": [
    "### Yearly Count\n",
    "\n",
    "The following graph has a year by year breakdown of tickets. Add analysis..."
   ]
  },
  {
   "cell_type": "code",
   "execution_count": null,
   "metadata": {},
   "outputs": [],
   "source": [
    " # Get the total number of tickets by Year \n",
    "df_ticket_cl = df_ticket_cl.groupby('Creation Year')\n",
    "number_of_tickets_per_year = df_ticket_cl['Company'].count()\n",
    "tickets_per_year_df = pd.DataFrame(data = number_of_tickets_per_year,index = None).reset_index()\n",
    "tickets_per_year_df = tickets_per_year_df.rename(columns = {\"Creation Year\":\"Year\",\"Company\":\"Total Number of Tickets\"})\n",
    "  # Print out in the window\n",
    "print(tickets_per_year_df)"
   ]
  },
  {
   "cell_type": "code",
   "execution_count": null,
   "metadata": {},
   "outputs": [],
   "source": [
    "# Tells matplotlib that we want to make a line graph\n",
    "total_tickets_per_year_chart = number_of_tickets_per_year.plot(kind = \"line\",grid=True,marker='^',title = \"Tickets per Year\",figsize = (10.5))                                                                                                             \n",
    "total_tickets_per_year_chart.set_xlabel(\"Year\")\n",
    "total_tickets_per_year_chart.set_ylabel(\"Total Ticket per Year\")\n",
    "plt.text(2018.5,250000,\"There is an increase in the usage of HRServices. \",bbox=dict(facecolor='green',alpha =0.75))\n",
    "  # Save Figure\n",
    "plt.savefig(\"Images/1_Tickets_per_Year.png\",bbox_inches = \"tight\")\n",
    "  # Print out in the window\n",
    "plt.show()"
   ]
  },
  {
   "cell_type": "markdown",
   "metadata": {},
   "source": [
    "###  Monthly count\n",
    "\n",
    "The following graph has a month by month breakdown. Add analysis.. "
   ]
  },
  {
   "cell_type": "code",
   "execution_count": null,
   "metadata": {},
   "outputs": [],
   "source": [
    "    #  Month by month breakdown declare DataFrame\n",
    "df_month = df_ticket_cl.loc[(df_ticket_cl[\"Ticket Year\"] >= 2014) & (df_ticket_cl[\"Ticket Year\"] <= 2018),:]\n",
    "df_ticket_month = df_month['Ticket Month'].value_counts()\n",
    "   # Print out in the window\n",
    "print(df_ticket_month)8\n",
    "  # Tells matplotlib that we want to make graph with months on X-axis and total number of tickets on Y-axis\n",
    "  # Formatting  importing python library Calendar to convert from month index to a month name\n",
    "import calendar\n",
    "mn=[calendar.month_name[int(x)] for x in df_ticket_month.index.values.tolist()]\n",
    " #Add title, x axis label and y axis label.\n",
    "ticket_chart = df_ticket_month.plot.bar(title = \"Total Tickets per Month \",width = 0.75,figsize = (10,5),rot = 30,alpha = 0.75 )\n",
    "ticket_chart.set_xticklabels(mn)\n",
    "ticket_chart.set_xlabel(\"Tickets Months\")\n",
    "ticket_chart.set_ylabel(\"Total Tickets Count\")\n",
    "plt.text(12,100000,\"The bars indicate ......\",bbox=dict(facecolor='lightblue',alpha =0.5))\n",
    "  # Save Figure\n",
    "plt.savefig(\"Images/2_Tickets_per_Month.png\")\n",
    "  # Print out in the window\n",
    "plt.show()"
   ]
  },
  {
   "cell_type": "code",
   "execution_count": null,
   "metadata": {},
   "outputs": [],
   "source": []
  },
  {
   "cell_type": "markdown",
   "metadata": {},
   "source": [
    "\n"
   ]
  },
  {
   "cell_type": "markdown",
   "metadata": {},
   "source": [
    "###  Daily Count\n",
    "\n",
    "The most popular time of the week to the employee call HRServices is..."
   ]
  },
  {
   "cell_type": "code",
   "execution_count": null,
   "metadata": {},
   "outputs": [],
   "source": [
    "    # Slice dataframe by day of the week to find out the most popular day.\n",
    "busy_day = df_ticket_cl['Ticket Day of Week'].value_counts()\n",
    "    # Print out in the window\n",
    "print(busy_day)\n",
    "    # Add the legend\n",
    "plt.xlabel = \"Days of a week \"\n",
    "plt.ylabel = \"Ticket count\"\n",
    "week_chart = busy_day.plot(kind = \"bar\" , title = \" Busiest Day of the Week  \",width = 0.75,figsize = (10,5),rot = 30,alpha = 0.75)\n",
    "plt.text(6.9,190000,\"XXX is the most popular day of the week.\",bbox=dict(facecolor='lightblue',alpha =0.5))\n",
    "    # Save Figure\n",
    "plt.savefig(\"Images/3_Busy_Week.png\",bbox_inches = \"tight\")\n",
    "     # Print out in the window\n",
    "plt.show()"
   ]
  },
  {
   "cell_type": "code",
   "execution_count": null,
   "metadata": {},
   "outputs": [],
   "source": []
  },
  {
   "cell_type": "markdown",
   "metadata": {},
   "source": [
    "### Hourly Count\n",
    "\n",
    "In this section we see that that the xxxxx hours are the most popular from xx through xxx \n"
   ]
  },
  {
   "cell_type": "code",
   "execution_count": null,
   "metadata": {},
   "outputs": [],
   "source": [
    " # Declare dataframes for the busiest hour of the day \n",
    "busy_hour = df_service_cl['Ticket Hour'].value_counts()\n",
    "   # Print out in the window\n",
    "print(busy_hour)\n",
    "   # Create the bar chart and add title, x axis label and y axis label.\n",
    "hour_chart = busy_hour.plot(kind = \"bar\" , title = \"Busiest Hour of the Day\",width = 0.75,figsize = (13,5),rot = 0,alpha = 0.75)\n",
    "hour_chart.set_xlabel(\"Hour of the Day\")\n",
    "hour_chart.set_ylabel(\"Ticket Count\")\n",
    "plt.text(24,80000,\"xxxxxx are the peak hours.\",bbox=dict(facecolor='Lightblue',alpha =0.5))\n",
    "  # Save Figure\n",
    "plt.savefig(\"4_Images/Busy_Hour.png\",bbox_inches=\"tight\")\n",
    "  # Print out in the window\n",
    "plt.show()"
   ]
  },
  {
   "cell_type": "code",
   "execution_count": null,
   "metadata": {
    "scrolled": true
   },
   "outputs": [],
   "source": []
  },
  {
   "cell_type": "markdown",
   "metadata": {},
   "source": [
    "### Daily and Houly Count Combined\n",
    "\n",
    "A heatmap by week day and hour ...."
   ]
  },
  {
   "cell_type": "code",
   "execution_count": null,
   "metadata": {},
   "outputs": [],
   "source": [
    "  # Create an array of the days of the week \n",
    "days_arr = [\"Monday\",\"Tuesday\", \"Wednesday\", \"Thursday\", \"Friday\", \"Saturday\", \"Sunday\"]\n",
    "\n",
    "# Create function that returns the correct day of the week \n",
    "def get_day_of_week(x):\n",
    "    return days_arr[x.weekday()]\n",
    "\n",
    "# Use seaborn to create heat map \n",
    "df_heat = df_service_cl.groupby([\"Ticket Hour\", \"Ticket Day of Week\"])[\"Ticket ID\"].size().reset_index()\n",
    "df_heat2 = df_heat.pivot(\"Ticket Hour\", \"Ticket Day of Week\", \"Ticket ID\")\n",
    "fig, ax = plt.subplots(figsize=(10,8))       \n",
    "sns.heatmap(df_heat2[days_arr] , cmap=\"YlOrRd\")\n",
    "plt.title(\"Total Number of Tickets by the Hour and Day of the Week.\")\n",
    "\n",
    "# Save heatmap image\n",
    "plt.savefig(\"Images/4_Hours-day.png\")\n",
    "plt.show()"
   ]
  },
  {
   "cell_type": "code",
   "execution_count": null,
   "metadata": {},
   "outputs": [],
   "source": []
  }
 ],
 "metadata": {
  "kernelspec": {
   "display_name": "Python 3",
   "language": "python",
   "name": "python3"
  },
  "language_info": {
   "codemirror_mode": {
    "name": "ipython",
    "version": 3
   },
   "file_extension": ".py",
   "mimetype": "text/x-python",
   "name": "python",
   "nbconvert_exporter": "python",
   "pygments_lexer": "ipython3",
   "version": "3.6.7"
  }
 },
 "nbformat": 4,
 "nbformat_minor": 2
}
