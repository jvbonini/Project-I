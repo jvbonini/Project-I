{
 "cells": [
  {
   "cell_type": "markdown",
   "metadata": {},
   "source": [
    "# PyHR Services Data Cleanup and Exploration"
   ]
  },
  {
   "cell_type": "markdown",
   "metadata": {},
   "source": [
    "### Introduction \n",
    "This notebook contains the clean up and exploration for PyHR Services, human resources business process outsourcing (BPO) services and consulting.The notebook looks at the inconsistencies in the columns caused by  typos, missing data, and other anomalies. The result is a re-organized CSV file that has data ready for analysis.\n",
    "\n",
    "### Data Extraction \n",
    "* The PyHR Services data comes from HRPy ticket system.\n",
    "* Data Provided: \n",
    "    *Data Provided\n",
    "    *Case ID\n",
    "    *Company Region\n",
    "    *Status\n",
    "    *Source\n",
    "    *Creator\n",
    "    *Current Agent\n",
    "    *Creation Date\n",
    "    *Creation Year\n",
    "    *Due Date\n",
    "    *Closed Date Service Group\n",
    "    *Service Pended Date\n",
    "    *Pending Reason\n",
    "    *Latest Communicated Date\n",
    "    *Latest Communication to User Group\n",
    "    *Last Transfer Date Type\n",
    "    *Service Center Case Age (in days)\n",
    "    *Days From Latest Communication\n",
    "    *Days From Last Transfer \n",
    "    *Systems \n",
    "    *Requestor\n",
    "   "
   ]
  },
  {
   "cell_type": "code",
   "execution_count": 15,
   "metadata": {},
   "outputs": [],
   "source": [
    "# Import Dependencies\n",
    "import numpy as np \n",
    "import pandas as pd \n",
    "import matplotlib.pyplot as plt\n",
    "import csv\n",
    "import requests"
   ]
  },
  {
   "cell_type": "code",
   "execution_count": 16,
   "metadata": {},
   "outputs": [
    {
     "data": {
      "text/html": [
       "<div>\n",
       "<style scoped>\n",
       "    .dataframe tbody tr th:only-of-type {\n",
       "        vertical-align: middle;\n",
       "    }\n",
       "\n",
       "    .dataframe tbody tr th {\n",
       "        vertical-align: top;\n",
       "    }\n",
       "\n",
       "    .dataframe thead th {\n",
       "        text-align: right;\n",
       "    }\n",
       "</style>\n",
       "<table border=\"1\" class=\"dataframe\">\n",
       "  <thead>\n",
       "    <tr style=\"text-align: right;\">\n",
       "      <th></th>\n",
       "      <th>Case ID</th>\n",
       "      <th>Company</th>\n",
       "      <th>Region</th>\n",
       "      <th>Status</th>\n",
       "      <th>Source</th>\n",
       "      <th>Creator</th>\n",
       "      <th>Current Agent</th>\n",
       "      <th>Creation Date</th>\n",
       "      <th>Due Date</th>\n",
       "      <th>Closed Date</th>\n",
       "      <th>...</th>\n",
       "      <th>User Group</th>\n",
       "      <th>Last Transfer Date</th>\n",
       "      <th>Type</th>\n",
       "      <th>Service Center</th>\n",
       "      <th>Case Age (in days)</th>\n",
       "      <th>Days From Latest Communication</th>\n",
       "      <th>Days From Last Transfer</th>\n",
       "      <th>Systems</th>\n",
       "      <th>Requestor</th>\n",
       "      <th>Unnamed: 25</th>\n",
       "    </tr>\n",
       "  </thead>\n",
       "  <tbody>\n",
       "    <tr>\n",
       "      <th>0</th>\n",
       "      <td>8111665</td>\n",
       "      <td>AU</td>\n",
       "      <td>APAC</td>\n",
       "      <td>Closed</td>\n",
       "      <td>e-mail</td>\n",
       "      <td>E-mail Processor MyHRW</td>\n",
       "      <td>MYHRW_JuliusB</td>\n",
       "      <td>11/05/18  22:07</td>\n",
       "      <td>11/20/18  21:00</td>\n",
       "      <td>11/16/18  07:45</td>\n",
       "      <td>...</td>\n",
       "      <td>Vendor_T1</td>\n",
       "      <td>NaN</td>\n",
       "      <td>Case</td>\n",
       "      <td>Manila</td>\n",
       "      <td>8.38</td>\n",
       "      <td>0.0</td>\n",
       "      <td>0.0</td>\n",
       "      <td>NaN</td>\n",
       "      <td>Business Partner</td>\n",
       "      <td>NaN</td>\n",
       "    </tr>\n",
       "    <tr>\n",
       "      <th>1</th>\n",
       "      <td>8111974</td>\n",
       "      <td>AU</td>\n",
       "      <td>APAC</td>\n",
       "      <td>Closed</td>\n",
       "      <td>e-mail</td>\n",
       "      <td>E-mail Processor MyHRW</td>\n",
       "      <td>MyHRW_AdamSu</td>\n",
       "      <td>11/05/18  23:00</td>\n",
       "      <td>11/13/18  22:01</td>\n",
       "      <td>11/05/18  23:21</td>\n",
       "      <td>...</td>\n",
       "      <td>Vendor_T1</td>\n",
       "      <td>NaN</td>\n",
       "      <td>Case</td>\n",
       "      <td>Manila</td>\n",
       "      <td>0.00</td>\n",
       "      <td>0.0</td>\n",
       "      <td>0.0</td>\n",
       "      <td>Payroll Exchange</td>\n",
       "      <td>Employee</td>\n",
       "      <td>NaN</td>\n",
       "    </tr>\n",
       "    <tr>\n",
       "      <th>2</th>\n",
       "      <td>8112663</td>\n",
       "      <td>AU</td>\n",
       "      <td>APAC</td>\n",
       "      <td>Closed</td>\n",
       "      <td>e-mail</td>\n",
       "      <td>E-mail Processor MyHRW</td>\n",
       "      <td>MyHRW_AdamSu</td>\n",
       "      <td>11/06/18  04:18</td>\n",
       "      <td>11/07/18  22:01</td>\n",
       "      <td>11/06/18  04:52</td>\n",
       "      <td>...</td>\n",
       "      <td>Vendor_T1</td>\n",
       "      <td>NaN</td>\n",
       "      <td>Case</td>\n",
       "      <td>Manila</td>\n",
       "      <td>0.00</td>\n",
       "      <td>0.0</td>\n",
       "      <td>0.0</td>\n",
       "      <td>NaN</td>\n",
       "      <td>Business Partner</td>\n",
       "      <td>NaN</td>\n",
       "    </tr>\n",
       "    <tr>\n",
       "      <th>3</th>\n",
       "      <td>8112727</td>\n",
       "      <td>AU</td>\n",
       "      <td>APAC</td>\n",
       "      <td>Closed</td>\n",
       "      <td>Interface</td>\n",
       "      <td>Adam Suanico</td>\n",
       "      <td>MyHRW_AdamSu</td>\n",
       "      <td>11/06/18  04:58</td>\n",
       "      <td>11/08/18  22:01</td>\n",
       "      <td>11/06/18  05:04</td>\n",
       "      <td>...</td>\n",
       "      <td>Vendor_T1</td>\n",
       "      <td>NaN</td>\n",
       "      <td>Case</td>\n",
       "      <td>Manila</td>\n",
       "      <td>0.04</td>\n",
       "      <td>0.0</td>\n",
       "      <td>0.0</td>\n",
       "      <td>Workday</td>\n",
       "      <td>Employee</td>\n",
       "      <td>NaN</td>\n",
       "    </tr>\n",
       "    <tr>\n",
       "      <th>4</th>\n",
       "      <td>8112910</td>\n",
       "      <td>AU</td>\n",
       "      <td>APAC</td>\n",
       "      <td>Closed</td>\n",
       "      <td>e-mail</td>\n",
       "      <td>E-mail Processor MyHRW</td>\n",
       "      <td>MYHRW_JuliusB</td>\n",
       "      <td>11/06/18  06:06</td>\n",
       "      <td>11/13/18  22:01</td>\n",
       "      <td>11/06/18  07:31</td>\n",
       "      <td>...</td>\n",
       "      <td>Vendor_T1</td>\n",
       "      <td>NaN</td>\n",
       "      <td>Case</td>\n",
       "      <td>Manila</td>\n",
       "      <td>0.04</td>\n",
       "      <td>0.0</td>\n",
       "      <td>0.0</td>\n",
       "      <td>NaN</td>\n",
       "      <td>Employee</td>\n",
       "      <td>NaN</td>\n",
       "    </tr>\n",
       "  </tbody>\n",
       "</table>\n",
       "<p>5 rows × 26 columns</p>\n",
       "</div>"
      ],
      "text/plain": [
       "  Case ID  Company Region  Status     Source                 Creator  \\\n",
       "0  8111665      AU   APAC  Closed     e-mail  E-mail Processor MyHRW   \n",
       "1  8111974      AU   APAC  Closed     e-mail  E-mail Processor MyHRW   \n",
       "2  8112663      AU   APAC  Closed     e-mail  E-mail Processor MyHRW   \n",
       "3  8112727      AU   APAC  Closed  Interface            Adam Suanico   \n",
       "4  8112910      AU   APAC  Closed     e-mail  E-mail Processor MyHRW   \n",
       "\n",
       "   Current Agent      Creation Date           Due Date        Closed Date  \\\n",
       "0  MYHRW_JuliusB   11/05/18  22:07    11/20/18  21:00    11/16/18  07:45    \n",
       "1   MyHRW_AdamSu   11/05/18  23:00    11/13/18  22:01    11/05/18  23:21    \n",
       "2   MyHRW_AdamSu   11/06/18  04:18    11/07/18  22:01    11/06/18  04:52    \n",
       "3   MyHRW_AdamSu   11/06/18  04:58    11/08/18  22:01    11/06/18  05:04    \n",
       "4  MYHRW_JuliusB   11/06/18  06:06    11/13/18  22:01    11/06/18  07:31    \n",
       "\n",
       "   ... User Group Last Transfer Date  Type Service Center Case Age (in days)  \\\n",
       "0  ...  Vendor_T1                NaN  Case         Manila               8.38   \n",
       "1  ...  Vendor_T1                NaN  Case         Manila               0.00   \n",
       "2  ...  Vendor_T1                NaN  Case         Manila               0.00   \n",
       "3  ...  Vendor_T1                NaN  Case         Manila               0.04   \n",
       "4  ...  Vendor_T1                NaN  Case         Manila               0.04   \n",
       "\n",
       "   Days From Latest Communication Days From Last Transfer           Systems  \\\n",
       "0                             0.0                     0.0               NaN   \n",
       "1                             0.0                     0.0  Payroll Exchange   \n",
       "2                             0.0                     0.0               NaN   \n",
       "3                             0.0                     0.0           Workday   \n",
       "4                             0.0                     0.0               NaN   \n",
       "\n",
       "          Requestor Unnamed: 25  \n",
       "0  Business Partner         NaN  \n",
       "1          Employee         NaN  \n",
       "2  Business Partner         NaN  \n",
       "3          Employee         NaN  \n",
       "4          Employee         NaN  \n",
       "\n",
       "[5 rows x 26 columns]"
      ]
     },
     "execution_count": 16,
     "metadata": {},
     "output_type": "execute_result"
    }
   ],
   "source": [
    "  # File to Load \n",
    "ticket_data = \"Resources//ticket_data.csv\"\n",
    "  # Read the Ticket file and store Pandas data frame\n",
    "df_ticket = pd.read_csv(ticket_data)\n",
    "   # Print out in the window\n",
    "df_ticket.head()"
   ]
  },
  {
   "cell_type": "markdown",
   "metadata": {},
   "source": [
    "## Initial Data Exploration \n",
    "\n",
    "On an initial exploration of the data, we some missing columns: * Region, *Closed Date, *Pended Date, *Pending Reason, *Latest Communicated Date, *Latest Communication to, *User Group, *Last Transfer Date, *Days From Latest Communication, *Days From *Last Transfer, *System, *Request Type.\n",
    "\n",
    "It does not necessarily mean that all the data is not present, sometimes it just needs to be extracted and reformatted, sometimes is not applicable. Currently, there are 64687 rows of information and 25 columns. "
   ]
  },
  {
   "cell_type": "code",
   "execution_count": 17,
   "metadata": {},
   "outputs": [
    {
     "data": {
      "text/plain": [
       "(64689, 26)"
      ]
     },
     "execution_count": 17,
     "metadata": {},
     "output_type": "execute_result"
    }
   ],
   "source": [
    "# Count rows and columns \n",
    "df_ticket.shape"
   ]
  },
  {
   "cell_type": "code",
   "execution_count": 18,
   "metadata": {},
   "outputs": [
    {
     "data": {
      "text/plain": [
       "Case ID                           64688\n",
       "Company                           64688\n",
       "Region                            29354\n",
       "Status                            64686\n",
       "Source                            64686\n",
       "Creator                           64686\n",
       "Current Agent                     64685\n",
       "Creation Date                     64686\n",
       "Due Date                          64686\n",
       "Closed Date                       62336\n",
       "Service Group                     64686\n",
       "Service                           64686\n",
       "Pended Date                         662\n",
       "Pending Reason                      844\n",
       "Latest Communicated Date          18034\n",
       "Latest Communication to               0\n",
       "User Group                        57883\n",
       "Last Transfer Date                    0\n",
       "Type                              64686\n",
       "Service Center                    64686\n",
       "Case Age (in days)                64686\n",
       "Days From Latest Communication    62737\n",
       "Days From Last Transfer           61688\n",
       "Systems                            8125\n",
       "Requestor                         64259\n",
       "Unnamed: 25                        1248\n",
       "dtype: int64"
      ]
     },
     "execution_count": 18,
     "metadata": {},
     "output_type": "execute_result"
    }
   ],
   "source": [
    "# Check for missing values \n",
    "df_ticket.count()"
   ]
  },
  {
   "cell_type": "markdown",
   "metadata": {},
   "source": [
    "## Initial Data Clean Up\n",
    "\n",
    "In this section..."
   ]
  },
  {
   "cell_type": "code",
   "execution_count": 36,
   "metadata": {},
   "outputs": [
    {
     "data": {
      "text/plain": [
       "(990500, 15)"
      ]
     },
     "execution_count": 36,
     "metadata": {},
     "output_type": "execute_result"
    }
   ],
   "source": [
    "# Check the data frame size after dropping the rows\n",
    "df_bike_clean.shape"
   ]
  },
  {
   "cell_type": "markdown",
   "metadata": {},
   "source": [
    "## Reorganized and Updated Data Frame\n",
    "\n",
    "After the initial exploration of the data and clean up..."
   ]
  },
  {
   "cell_type": "code",
   "execution_count": 46,
   "metadata": {},
   "outputs": [],
   "source": [
    "# Export to csv\n"
   ]
  }
 ],
 "metadata": {
  "kernelspec": {
   "display_name": "Python 3",
   "language": "python",
   "name": "python3"
  },
  "language_info": {
   "codemirror_mode": {
    "name": "ipython",
    "version": 3
   },
   "file_extension": ".py",
   "mimetype": "text/x-python",
   "name": "python",
   "nbconvert_exporter": "python",
   "pygments_lexer": "ipython3",
   "version": "3.6.7"
  }
 },
 "nbformat": 4,
 "nbformat_minor": 2
}
