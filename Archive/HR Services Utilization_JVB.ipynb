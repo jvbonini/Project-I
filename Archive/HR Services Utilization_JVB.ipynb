{
 "cells": [
  {
   "cell_type": "markdown",
   "metadata": {},
   "source": [
    "##  Dependencies and Setup"
   ]
  },
  {
   "cell_type": "code",
   "execution_count": 1,
   "metadata": {},
   "outputs": [],
   "source": [
    "  # Importing library\n",
    "%matplotlib inline"
   ]
  },
  {
   "cell_type": "code",
   "execution_count": 2,
   "metadata": {},
   "outputs": [],
   "source": [
    "  # Importing external packages\n",
    "import numpy as np\n",
    "import matplotlib.patches as mpatches\n",
    "import requests\n",
    "import pandas as pd\n",
    "import seaborn as sns"
   ]
  },
  {
   "cell_type": "code",
   "execution_count": 3,
   "metadata": {},
   "outputs": [],
   "source": [
    "  # File to Load \n",
    "ticket_data = \"output_data//cleansed_dataframe.xlsx\""
   ]
  },
  {
   "cell_type": "code",
   "execution_count": 4,
   "metadata": {},
   "outputs": [
    {
     "data": {
      "text/html": [
       "<div>\n",
       "<style scoped>\n",
       "    .dataframe tbody tr th:only-of-type {\n",
       "        vertical-align: middle;\n",
       "    }\n",
       "\n",
       "    .dataframe tbody tr th {\n",
       "        vertical-align: top;\n",
       "    }\n",
       "\n",
       "    .dataframe thead th {\n",
       "        text-align: right;\n",
       "    }\n",
       "</style>\n",
       "<table border=\"1\" class=\"dataframe\">\n",
       "  <thead>\n",
       "    <tr style=\"text-align: right;\">\n",
       "      <th></th>\n",
       "      <th>Case ID</th>\n",
       "      <th>Company</th>\n",
       "      <th>Region</th>\n",
       "      <th>Status</th>\n",
       "      <th>Source</th>\n",
       "      <th>Current Agent</th>\n",
       "      <th>Creation Date</th>\n",
       "      <th>Due Date</th>\n",
       "      <th>Closed Date</th>\n",
       "      <th>Service Group</th>\n",
       "      <th>...</th>\n",
       "      <th>Due_Date</th>\n",
       "      <th>Due Time</th>\n",
       "      <th>Due Year</th>\n",
       "      <th>Due Month</th>\n",
       "      <th>Due Day</th>\n",
       "      <th>Due_day_of_week</th>\n",
       "      <th>Closed_Date</th>\n",
       "      <th>Closed Time</th>\n",
       "      <th>Pended_Date</th>\n",
       "      <th>Pended Time</th>\n",
       "    </tr>\n",
       "  </thead>\n",
       "  <tbody>\n",
       "    <tr>\n",
       "      <th>0</th>\n",
       "      <td>8111665</td>\n",
       "      <td>AU</td>\n",
       "      <td>APAC</td>\n",
       "      <td>Closed</td>\n",
       "      <td>E-mail</td>\n",
       "      <td>MYHRW_JuliusB</td>\n",
       "      <td>11/05/18  22:07</td>\n",
       "      <td>11/20/18  21:00</td>\n",
       "      <td>11/16/18  07:45</td>\n",
       "      <td>MyHRW</td>\n",
       "      <td>...</td>\n",
       "      <td>2018-11-20</td>\n",
       "      <td>21:00:00</td>\n",
       "      <td>2018</td>\n",
       "      <td>11</td>\n",
       "      <td>20</td>\n",
       "      <td>Tuesday</td>\n",
       "      <td>2018-11-16</td>\n",
       "      <td>07:45:00</td>\n",
       "      <td>NaT</td>\n",
       "      <td>NaN</td>\n",
       "    </tr>\n",
       "    <tr>\n",
       "      <th>1</th>\n",
       "      <td>8111974</td>\n",
       "      <td>AU</td>\n",
       "      <td>APAC</td>\n",
       "      <td>Closed</td>\n",
       "      <td>E-mail</td>\n",
       "      <td>MyHRW_AdamSu</td>\n",
       "      <td>11/05/18  23:00</td>\n",
       "      <td>11/13/18  22:01</td>\n",
       "      <td>11/05/18  23:21</td>\n",
       "      <td>MyHRW</td>\n",
       "      <td>...</td>\n",
       "      <td>2018-11-13</td>\n",
       "      <td>22:01:00</td>\n",
       "      <td>2018</td>\n",
       "      <td>11</td>\n",
       "      <td>13</td>\n",
       "      <td>Tuesday</td>\n",
       "      <td>2018-11-05</td>\n",
       "      <td>23:21:00</td>\n",
       "      <td>NaT</td>\n",
       "      <td>NaN</td>\n",
       "    </tr>\n",
       "    <tr>\n",
       "      <th>2</th>\n",
       "      <td>8112663</td>\n",
       "      <td>AU</td>\n",
       "      <td>APAC</td>\n",
       "      <td>Closed</td>\n",
       "      <td>E-mail</td>\n",
       "      <td>MyHRW_AdamSu</td>\n",
       "      <td>11/06/18  04:18</td>\n",
       "      <td>11/07/18  22:01</td>\n",
       "      <td>11/06/18  04:52</td>\n",
       "      <td>MyHRW</td>\n",
       "      <td>...</td>\n",
       "      <td>2018-11-07</td>\n",
       "      <td>22:01:00</td>\n",
       "      <td>2018</td>\n",
       "      <td>11</td>\n",
       "      <td>7</td>\n",
       "      <td>Wednesday</td>\n",
       "      <td>2018-11-06</td>\n",
       "      <td>04:52:00</td>\n",
       "      <td>NaT</td>\n",
       "      <td>NaN</td>\n",
       "    </tr>\n",
       "    <tr>\n",
       "      <th>3</th>\n",
       "      <td>8112727</td>\n",
       "      <td>AU</td>\n",
       "      <td>APAC</td>\n",
       "      <td>Closed</td>\n",
       "      <td>Interface</td>\n",
       "      <td>MyHRW_AdamSu</td>\n",
       "      <td>11/06/18  04:58</td>\n",
       "      <td>11/08/18  22:01</td>\n",
       "      <td>11/06/18  05:04</td>\n",
       "      <td>MyHRW</td>\n",
       "      <td>...</td>\n",
       "      <td>2018-11-08</td>\n",
       "      <td>22:01:00</td>\n",
       "      <td>2018</td>\n",
       "      <td>11</td>\n",
       "      <td>8</td>\n",
       "      <td>Thursday</td>\n",
       "      <td>2018-11-06</td>\n",
       "      <td>05:04:00</td>\n",
       "      <td>NaT</td>\n",
       "      <td>NaN</td>\n",
       "    </tr>\n",
       "    <tr>\n",
       "      <th>4</th>\n",
       "      <td>8112910</td>\n",
       "      <td>AU</td>\n",
       "      <td>APAC</td>\n",
       "      <td>Closed</td>\n",
       "      <td>E-mail</td>\n",
       "      <td>MYHRW_JuliusB</td>\n",
       "      <td>11/06/18  06:06</td>\n",
       "      <td>11/13/18  22:01</td>\n",
       "      <td>11/06/18  07:31</td>\n",
       "      <td>MyHRW</td>\n",
       "      <td>...</td>\n",
       "      <td>2018-11-13</td>\n",
       "      <td>22:01:00</td>\n",
       "      <td>2018</td>\n",
       "      <td>11</td>\n",
       "      <td>13</td>\n",
       "      <td>Tuesday</td>\n",
       "      <td>2018-11-06</td>\n",
       "      <td>07:31:00</td>\n",
       "      <td>NaT</td>\n",
       "      <td>NaN</td>\n",
       "    </tr>\n",
       "  </tbody>\n",
       "</table>\n",
       "<p>5 rows × 38 columns</p>\n",
       "</div>"
      ],
      "text/plain": [
       "   Case ID  Company Region  Status     Source  Current Agent  \\\n",
       "0   8111665      AU   APAC  Closed     E-mail  MYHRW_JuliusB   \n",
       "1   8111974      AU   APAC  Closed     E-mail   MyHRW_AdamSu   \n",
       "2   8112663      AU   APAC  Closed     E-mail   MyHRW_AdamSu   \n",
       "3   8112727      AU   APAC  Closed  Interface   MyHRW_AdamSu   \n",
       "4   8112910      AU   APAC  Closed     E-mail  MYHRW_JuliusB   \n",
       "\n",
       "       Creation Date           Due Date        Closed Date Service Group  ...  \\\n",
       "0   11/05/18  22:07    11/20/18  21:00    11/16/18  07:45          MyHRW  ...   \n",
       "1   11/05/18  23:00    11/13/18  22:01    11/05/18  23:21          MyHRW  ...   \n",
       "2   11/06/18  04:18    11/07/18  22:01    11/06/18  04:52          MyHRW  ...   \n",
       "3   11/06/18  04:58    11/08/18  22:01    11/06/18  05:04          MyHRW  ...   \n",
       "4   11/06/18  06:06    11/13/18  22:01    11/06/18  07:31          MyHRW  ...   \n",
       "\n",
       "    Due_Date  Due Time Due Year Due Month Due Day Due_day_of_week Closed_Date  \\\n",
       "0 2018-11-20  21:00:00     2018        11      20         Tuesday  2018-11-16   \n",
       "1 2018-11-13  22:01:00     2018        11      13         Tuesday  2018-11-05   \n",
       "2 2018-11-07  22:01:00     2018        11       7       Wednesday  2018-11-06   \n",
       "3 2018-11-08  22:01:00     2018        11       8        Thursday  2018-11-06   \n",
       "4 2018-11-13  22:01:00     2018        11      13         Tuesday  2018-11-06   \n",
       "\n",
       "   Closed Time  Pended_Date Pended Time  \n",
       "0     07:45:00          NaT         NaN  \n",
       "1     23:21:00          NaT         NaN  \n",
       "2     04:52:00          NaT         NaN  \n",
       "3     05:04:00          NaT         NaN  \n",
       "4     07:31:00          NaT         NaN  \n",
       "\n",
       "[5 rows x 38 columns]"
      ]
     },
     "execution_count": 4,
     "metadata": {},
     "output_type": "execute_result"
    }
   ],
   "source": [
    "  # Read the Ticket file and store Pandas data frame\n",
    "df_ticket_cl = pd.read_excel(ticket_data)\n",
    "\n",
    "  # Print out in the window\n",
    "df_ticket_cl.head()"
   ]
  },
  {
   "cell_type": "markdown",
   "metadata": {},
   "source": [
    "### Yearly Count\n",
    "\n",
    "The following graph has a year by year breakdown of tickets."
   ]
  },
  {
   "cell_type": "code",
   "execution_count": 5,
   "metadata": {},
   "outputs": [
    {
     "data": {
      "text/html": [
       "<div>\n",
       "<style scoped>\n",
       "    .dataframe tbody tr th:only-of-type {\n",
       "        vertical-align: middle;\n",
       "    }\n",
       "\n",
       "    .dataframe tbody tr th {\n",
       "        vertical-align: top;\n",
       "    }\n",
       "\n",
       "    .dataframe thead th {\n",
       "        text-align: right;\n",
       "    }\n",
       "</style>\n",
       "<table border=\"1\" class=\"dataframe\">\n",
       "  <thead>\n",
       "    <tr style=\"text-align: right;\">\n",
       "      <th></th>\n",
       "      <th>Year</th>\n",
       "      <th>Total Number of Tickets</th>\n",
       "    </tr>\n",
       "  </thead>\n",
       "  <tbody>\n",
       "    <tr>\n",
       "      <th>0</th>\n",
       "      <td>2018</td>\n",
       "      <td>39519</td>\n",
       "    </tr>\n",
       "    <tr>\n",
       "      <th>1</th>\n",
       "      <td>2019</td>\n",
       "      <td>25167</td>\n",
       "    </tr>\n",
       "  </tbody>\n",
       "</table>\n",
       "</div>"
      ],
      "text/plain": [
       "   Year  Total Number of Tickets\n",
       "0  2018                    39519\n",
       "1  2019                    25167"
      ]
     },
     "execution_count": 5,
     "metadata": {},
     "output_type": "execute_result"
    }
   ],
   "source": [
    "   # Declare DataFrame\n",
    "df_ticket_cl_1= df_ticket_cl.groupby('Creation Year')\n",
    "   # Get the total number of tickets by Year \n",
    "number_of_tickets_per_year = df_ticket_cl_1['Company'].count()\n",
    "   # Output DataFrame\n",
    "tickets_per_year_df = pd.DataFrame(data = number_of_tickets_per_year,index = None).reset_index()\n",
    "tickets_per_year_df = tickets_per_year_df.rename(columns = {\"Creation Year\":\"Year\",\"Company\":\"Total Number of Tickets\"})\n",
    "   # Print out in the window \n",
    "tickets_per_year_df"
   ]
  },
  {
   "cell_type": "code",
   "execution_count": 6,
   "metadata": {},
   "outputs": [
    {
     "data": {
      "image/png": "[encoded data removed]",
      "text/plain": [
       "<Figure size 432x288 with 1 Axes>"
      ]
     },
     "metadata": {
      "needs_background": "light"
     },
     "output_type": "display_data"
    }
   ],
   "source": [
    "  # Create the bar chart\n",
    "ax = tickets_per_year_df.plot.bar(x='Year', y='Total Number of Tickets', rot=90, color='lightblue')\n",
    "#   # Save Figure\n",
    "# #plt.savefig(\"Images/x_Tickets_per_Year.png\",bbox_inches = \"tight\")"
   ]
  },
  {
   "cell_type": "markdown",
   "metadata": {},
   "source": [
    "###  Monthly count\n",
    "\n",
    "The following graph has a month by month breakdown."
   ]
  },
  {
   "cell_type": "code",
   "execution_count": 7,
   "metadata": {},
   "outputs": [
    {
     "data": {
      "text/html": [
       "<div>\n",
       "<style scoped>\n",
       "    .dataframe tbody tr th:only-of-type {\n",
       "        vertical-align: middle;\n",
       "    }\n",
       "\n",
       "    .dataframe tbody tr th {\n",
       "        vertical-align: top;\n",
       "    }\n",
       "\n",
       "    .dataframe thead th {\n",
       "        text-align: right;\n",
       "    }\n",
       "</style>\n",
       "<table border=\"1\" class=\"dataframe\">\n",
       "  <thead>\n",
       "    <tr style=\"text-align: right;\">\n",
       "      <th></th>\n",
       "      <th>Month</th>\n",
       "      <th>Total Number of Tickets</th>\n",
       "    </tr>\n",
       "  </thead>\n",
       "  <tbody>\n",
       "    <tr>\n",
       "      <th>0</th>\n",
       "      <td>1</td>\n",
       "      <td>11241</td>\n",
       "    </tr>\n",
       "    <tr>\n",
       "      <th>1</th>\n",
       "      <td>2</td>\n",
       "      <td>9501</td>\n",
       "    </tr>\n",
       "    <tr>\n",
       "      <th>2</th>\n",
       "      <td>3</td>\n",
       "      <td>4437</td>\n",
       "    </tr>\n",
       "    <tr>\n",
       "      <th>3</th>\n",
       "      <td>4</td>\n",
       "      <td>10</td>\n",
       "    </tr>\n",
       "    <tr>\n",
       "      <th>4</th>\n",
       "      <td>5</td>\n",
       "      <td>9</td>\n",
       "    </tr>\n",
       "    <tr>\n",
       "      <th>5</th>\n",
       "      <td>6</td>\n",
       "      <td>14</td>\n",
       "    </tr>\n",
       "    <tr>\n",
       "      <th>6</th>\n",
       "      <td>7</td>\n",
       "      <td>26</td>\n",
       "    </tr>\n",
       "    <tr>\n",
       "      <th>7</th>\n",
       "      <td>8</td>\n",
       "      <td>18</td>\n",
       "    </tr>\n",
       "    <tr>\n",
       "      <th>8</th>\n",
       "      <td>9</td>\n",
       "      <td>8817</td>\n",
       "    </tr>\n",
       "    <tr>\n",
       "      <th>9</th>\n",
       "      <td>10</td>\n",
       "      <td>10135</td>\n",
       "    </tr>\n",
       "    <tr>\n",
       "      <th>10</th>\n",
       "      <td>11</td>\n",
       "      <td>10694</td>\n",
       "    </tr>\n",
       "    <tr>\n",
       "      <th>11</th>\n",
       "      <td>12</td>\n",
       "      <td>9784</td>\n",
       "    </tr>\n",
       "  </tbody>\n",
       "</table>\n",
       "</div>"
      ],
      "text/plain": [
       "    Month  Total Number of Tickets\n",
       "0       1                    11241\n",
       "1       2                     9501\n",
       "2       3                     4437\n",
       "3       4                       10\n",
       "4       5                        9\n",
       "5       6                       14\n",
       "6       7                       26\n",
       "7       8                       18\n",
       "8       9                     8817\n",
       "9      10                    10135\n",
       "10     11                    10694\n",
       "11     12                     9784"
      ]
     },
     "execution_count": 7,
     "metadata": {},
     "output_type": "execute_result"
    }
   ],
   "source": [
    "   # Declare DataFrame\n",
    "df_ticket_cl_2= df_ticket_cl.groupby('Creation Month')\n",
    "   # Get the total number of tickets by Month \n",
    "number_of_tickets_per_month = df_ticket_cl_2['Company'].count()\n",
    "   # Output DataFrame\n",
    "tickets_per_month_df = pd.DataFrame(data = number_of_tickets_per_month,index = None).reset_index()\n",
    "tickets_per_month_df = tickets_per_month_df.rename(columns = {\"Creation Month\":\"Month\",\"Company\":\"Total Number of Tickets\"})\n",
    "   # Print out in the window \n",
    "tickets_per_month_df"
   ]
  },
  {
   "cell_type": "code",
   "execution_count": 8,
   "metadata": {},
   "outputs": [],
   "source": [
    "#   # Create the bar chart\n",
    "# ax = tickets_per_year_df.plot.bar(x='Month', y='Total Number of Tickets', rot=90, color='b')\n",
    "#   # Save Figure\n",
    "# #plt.savefig(\"Images/x_Tickets_per_Month.png\",bbox_inches = \"tight\")\n",
    "#   # Print out in the window\n",
    "# plt.show()"
   ]
  },
  {
   "cell_type": "markdown",
   "metadata": {},
   "source": [
    "\n"
   ]
  },
  {
   "cell_type": "markdown",
   "metadata": {},
   "source": [
    "###  Daily Count\n",
    "\n",
    "The most popular time of the week to the employee call HRServices is..."
   ]
  },
  {
   "cell_type": "code",
   "execution_count": 9,
   "metadata": {},
   "outputs": [],
   "source": [
    "#    # Declare DataFrame\n",
    "# df_ticket_cl= df_ticket_cl.groupby('Creation_day_of_week')\n",
    "#    # Get the total number of tickets by Day \n",
    "# number_of_tickets_per_day = df_ticket_cl['Company'].count()\n",
    "#    # Output DataFrame\n",
    "# tickets_per_day_df = pd.DataFrame(data = number_of_tickets_per_day,index = None).reset_index()\n",
    "# tickets_per_day_df = tickets_per_day_df.rename(columns = {\"Creation_day_of_week\":\"Day\",\"Company\":\"Total Number of Tickets\"})\n",
    "#    # Print out in the window \n",
    "# tickets_per_day_df"
   ]
  },
  {
   "cell_type": "code",
   "execution_count": 10,
   "metadata": {},
   "outputs": [],
   "source": [
    "#   # Create the bar chart\n",
    "# ax = tickets_per_year_df.plot.bar(x='Day', y='Total Number of Tickets', rot=90, color='b')\n",
    "#   # Save Figure\n",
    "# #plt.savefig(\"Images/x_Tickets_per_Day.png\",bbox_inches = \"tight\")\n",
    "#   # Print out in the window\n",
    "# plt.show()"
   ]
  },
  {
   "cell_type": "markdown",
   "metadata": {},
   "source": [
    "### Hourly Count\n",
    "\n",
    "In this section we see that that the xxxxx hours are the most popular from xx through xxx \n"
   ]
  },
  {
   "cell_type": "code",
   "execution_count": 11,
   "metadata": {},
   "outputs": [],
   "source": [
    "#    # Declare DataFrame\n",
    "# df_ticket_cl= df_ticket_cl.groupby('Creation Time')\n",
    "#    # Get the total number of tickets by Hour \n",
    "# number_of_tickets_per_hour = df_ticket_cl['Company'].count()\n",
    "#    # Output DataFrame\n",
    "# tickets_per_hour_df = pd.DataFrame(data = number_of_tickets_per_hour,index = None).reset_index()\n",
    "# tickets_per_hour_df = tickets_per_hour_df.rename(columns = {\"Creation Time\":\"Hour\",\"Company\":\"Total Number of Tickets\"})\n",
    "#    # Print out in the window \n",
    "# tickets_per_hour_df"
   ]
  },
  {
   "cell_type": "code",
   "execution_count": 12,
   "metadata": {},
   "outputs": [],
   "source": [
    "#   # Create the bar chart\n",
    "# ax = tickets_per_hour_df.plot.bar(x='Hour', y='Total Number of Tickets', rot=90, color='b')\n",
    "#   # Save Figure\n",
    "# #plt.savefig(\"Images/x_Tickets_per_Hour.png\",bbox_inches = \"tight\")\n",
    "#   # Print out in the window\n",
    "# plt.show()"
   ]
  },
  {
   "cell_type": "code",
   "execution_count": null,
   "metadata": {
    "scrolled": true
   },
   "outputs": [],
   "source": []
  },
  {
   "cell_type": "markdown",
   "metadata": {},
   "source": [
    "### Daily and Houly Count Combined\n",
    "\n",
    "A heatmap by week day and hour ...."
   ]
  },
  {
   "cell_type": "code",
   "execution_count": 13,
   "metadata": {},
   "outputs": [],
   "source": [
    "# # Create an array of the days of the week \n",
    "# days_arr = [\"Monday\",\"Tuesday\", \"Wednesday\", \"Thursday\", \"Friday\", \"Saturday\", \"Sunday\"]\n",
    "# # Use seaborn to create heat map \n",
    "# df_heat = df_ticket_cl([\"Creation Time\", \"Creation_day_of_week\"])[\"Company\"].size().reset_index()\n",
    "# df_heat2 = df_ticket_cl(\"Creation Time\", \"Creation_day_of_week\", \"Company\")\n",
    "#df_heat"
   ]
  },
  {
   "cell_type": "code",
   "execution_count": 14,
   "metadata": {},
   "outputs": [],
   "source": [
    "# fig, ax = plt.subplots(figsize=(10,8))       \n",
    "# sns.heatmap(df_heat2[days_arr] , cmap=\"YlOrRd\")\n",
    "# plt.title(\"Total Number of Tickets by the Hour and Day of the Week.\")\n",
    "# # Save image\n",
    "# # plt.savefig(\"Images/x_Hours-day.png\")\n",
    "# plt.show()"
   ]
  }
 ],
 "metadata": {
  "kernelspec": {
   "display_name": "Python 3",
   "language": "python",
   "name": "python3"
  },
  "language_info": {
   "codemirror_mode": {
    "name": "ipython",
    "version": 3
   },
   "file_extension": ".py",
   "mimetype": "text/x-python",
   "name": "python",
   "nbconvert_exporter": "python",
   "pygments_lexer": "ipython3",
   "version": "3.6.7"
  }
 },
 "nbformat": 4,
 "nbformat_minor": 2
}
