{
 "cells": [
  {
   "cell_type": "code",
   "execution_count": null,
   "metadata": {},
   "outputs": [],
   "source": [
    "%matplotlib notebook\n",
    "\n",
    "# Import Dependencies\n",
    "import numpy as np \n",
    "import pandas as pd \n",
    "import matplotlib.pyplot as plt\n",
    "import csv\n",
    "import requests\n",
    "import matplotlib.patches as mpatches\n",
    "import seaborn as sns\n",
    "from matplotlib.colors import ListedColormap"
   ]
  },
  {
   "cell_type": "code",
   "execution_count": null,
   "metadata": {
    "scrolled": true
   },
   "outputs": [],
   "source": [
    "# File to Load \n",
    "hr_data = pd.read_csv(\"cleansed_dataframe.csv\")\n",
    "hr_data.head()"
   ]
  },
  {
   "cell_type": "code",
   "execution_count": null,
   "metadata": {},
   "outputs": [],
   "source": [
    "#creating lists for each of the data sets used to plot:  service group type and frequency\n",
    "service_group_counts= hr_data['Service Group'].value_counts()\n",
    "service_group_counts_list = service_group_counts.tolist()\n",
    "service_group_list= service_group_counts.index.tolist()\n",
    "\n",
    "#creating lists for each of the data sets used to plot:  service center and frequency\n",
    "\n",
    "service_center_counts= hr_data['Service Center'].value_counts()\n",
    "service_center_counts_list= service_center_counts.tolist()\n",
    "service_center_list= service_center_counts.index.tolist()\n",
    "service_center_list = [sc.replace('US - AMO', 'Washington DC') for sc in service_center_list]\n",
    "\n",
    "#creating lists for each of the data sets used to plot: due day of week & time and frequency\n",
    "due_day_of_week_counts=hr_data['Due_day_of_week'].value_counts()\n",
    "due_day_of_week_list=due_day_of_week_counts.tolist()\n",
    "due_day_of_week = hr_data['Due_day_of_week']\n",
    "\n",
    "#creating lists for each of the data sets used to plot: due time and frequency\n",
    "due_time_counts= hr_data['Due Time'].value_counts()\n",
    "due_time_list= due_time_counts.tolist()\n",
    "\n",
    "by_due_day= pd.DataFrame()\n",
    "by_due_day['Due Day of the Week'] = hr_data['Due_day_of_week']\n",
    "by_due_day['Due Time'] = hr_data['Due Time']\n",
    "\n",
    "\n",
    "# creating dataframe for histogram for service center by due day\n",
    "service_time_by_day= pd.DataFrame()\n",
    "service_time_by_day['Service Center'] = hr_data['Service Center']\n",
    "service_time_by_day['Day of the Week'] = hr_data['Due_day_of_week']\n",
    "service_time_by_day['Time of the day']= hr_data['Due Time']\n",
    "\n",
    "service_time_by_day = service_time_by_day.set_index('Service Center')\n",
    "\n",
    "\n",
    "# Create the names for the bins using a list\n",
    "DAYS = ['Monday', 'Tuesday', 'Wednesday', 'Thursday', 'Friday', 'Saturday', 'Sunday']\n"
   ]
  },
  {
   "cell_type": "code",
   "execution_count": null,
   "metadata": {},
   "outputs": [],
   "source": [
    "\n",
    "# converting the time data into numerical (in minutes) format for plotting purposes \n",
    "time = pd.DatetimeIndex(hr_data['Due Time'])\n",
    "hr_data['Due Time']= time.hour\n",
    "# time.hour * 60 + time.minute\n",
    "\n",
    "#creating new dataframe to use numerical format of time of day, day of the week and service center\n",
    "\n",
    "new_timedf= pd.DataFrame()\n",
    "new_timedf['Service Centers']= hr_data['Service Center']\n",
    "new_timedf['Day of the week']= hr_data['Due_day_of_week']\n",
    "new_timedf['Hour of day'] = hr_data['Due Time']\n",
    "\n",
    "\n",
    "new_timedf\n"
   ]
  },
  {
   "cell_type": "markdown",
   "metadata": {},
   "source": [
    "# Times of inquiry plot by service center (plot vs. box plot)"
   ]
  },
  {
   "cell_type": "code",
   "execution_count": null,
   "metadata": {},
   "outputs": [],
   "source": [
    "new_timedf.plot(x='Service Centers', y='Hour of day', style='x')\n",
    "\n",
    "plt.title(\"Service Centers by hour of day\")\n",
    "plt.xlabel(\"Service Center\")\n",
    "\n",
    "plt.ylabel(\"Requests/hour\")"
   ]
  },
  {
   "cell_type": "code",
   "execution_count": null,
   "metadata": {},
   "outputs": [],
   "source": [
    "new_timedf.boxplot(by='Service Centers', \n",
    "                       column=['Hour of day'], \n",
    "                       grid=False, showmeans=True, notch= True, bootstrap= 10000)\n",
    "\n",
    "plt.xlabel(\"Service Center\")\n",
    "plt.ylabel(\"Hour of day (based on 24 hour clock)\")\n",
    "plt.title(\"Hourly fielded inquiries by Service Center\")\n",
    "plt.xticks(rotation='vertical')\n",
    "\n",
    "# # Save the figure\n",
    "plt.savefig(\"Hours of inquiries fielded by Service Center\")"
   ]
  },
  {
   "cell_type": "markdown",
   "metadata": {},
   "source": [
    "# Service Type by Day of the Week"
   ]
  },
  {
   "cell_type": "code",
   "execution_count": null,
   "metadata": {},
   "outputs": [],
   "source": [
    "service_timebyday_chart= service_time_by_day['Day of the Week'].value_counts().reindex(DAYS, fill_value=0).plot(kind='bar')\n",
    "\n",
    "# x= count_dates\n",
    "# y= count_dates\n",
    "\n",
    "# date_chart = sns.barplot(x=x, y=y, palette=\"vlag\")\n",
    "\n",
    "# Set the xlabel and ylabel using class methods\n",
    "service_timebyday_chart.set_xlabel(\"Day of the Week\")\n",
    "service_timebyday_chart.set_ylabel(\"Number of Inquiries\")\n",
    "\n",
    "\n",
    "plt.show()\n",
    "plt.tight_layout()\n"
   ]
  },
  {
   "cell_type": "markdown",
   "metadata": {},
   "source": [
    "# Number of Requests by Type\n"
   ]
  },
  {
   "cell_type": "code",
   "execution_count": null,
   "metadata": {},
   "outputs": [],
   "source": [
    "plt.title(\"# of Service Requests by Type\")\n",
    "plt.xlabel(\"Type of Service Request\")\n",
    "plt.ylabel(\"Number of Requests\")\n",
    "plt.xticks(rotation='vertical')\n",
    "\n",
    "# # Build a scatter plot for each data type\n",
    "N = 15\n",
    "colors = np.random.rand(N)\n",
    "\n",
    "plt.scatter(service_group_list, service_group_counts_list, \n",
    "            s=5*service_group_counts_list, c= colors, \n",
    "            edgecolor=\"black\", linewidths=1, marker=\"o\", \n",
    "            alpha=0.8, label=\"Urban\")\n",
    "\n",
    "# # Save the figure\n",
    "plt.savefig(\"Number of Service Requests by Type.png\")\n",
    "\n",
    "# # Show plot\n",
    "plt.show()\n"
   ]
  },
  {
   "cell_type": "markdown",
   "metadata": {},
   "source": [
    "# Attempt to make a heatmap by three dimensions "
   ]
  },
  {
   "cell_type": "code",
   "execution_count": null,
   "metadata": {},
   "outputs": [],
   "source": [
    "newdf = hr_data[['Service Center','Due_day_of_week', 'Due Day']]\n",
    "\n",
    "day_array=np.array([newdf['Due_day_of_week']])\n",
    "                \n",
    "sc_array=np.array([newdf['Service Center']])\n",
    "dd_array =np.array([newdf['Due Day']])\n",
    "\n",
    "fig, ax = plt.subplots()   \n",
    "im = ax.imshow(day_array)\n",
    "\n",
    "# We want to show all ticks...\n",
    "ax.set_xticks(np.arange(len(dd_array)))\n",
    "ax.set_yticks(np.arange(len(sc_array)))\n",
    "# ... and label them with the respective list entries\n",
    "ax.set_xticklabels(dd_array)\n",
    "ax.set_yticklabels(sc_array)\n",
    "\n",
    "# Rotate the tick labels and set their alignment.\n",
    "plt.setp(ax.get_xticklabels(), rotation=45, ha=\"right\",\n",
    "         rotation_mode=\"anchor\")\n",
    "\n",
    "# Loop over data dimensions and create text annotations.\n",
    "for i in range(len(sc_array)):\n",
    "    for j in range(len(dd_array)):\n",
    "        text = ax.text(j, i, dd_array[i, j],\n",
    "                       ha=\"center\", va=\"center\", color=\"w\")\n",
    "\n",
    "ax.set_title(\"Tickets by service center (by days of the week)\")\n",
    "fig.tight_layout()\n",
    "plt.show()"
   ]
  },
  {
   "cell_type": "code",
   "execution_count": null,
   "metadata": {},
   "outputs": [],
   "source": []
  }
 ],
 "metadata": {
  "kernelspec": {
   "display_name": "Python 3",
   "language": "python",
   "name": "python3"
  },
  "language_info": {
   "codemirror_mode": {
    "name": "ipython",
    "version": 3
   },
   "file_extension": ".py",
   "mimetype": "text/x-python",
   "name": "python",
   "nbconvert_exporter": "python",
   "pygments_lexer": "ipython3",
   "version": "3.7.1"
  }
 },
 "nbformat": 4,
 "nbformat_minor": 2
}
