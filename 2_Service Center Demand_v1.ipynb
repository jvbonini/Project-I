{
 "cells": [
  {
   "cell_type": "markdown",
   "metadata": {},
   "source": [
    "# Pypharma HRServices Data "
   ]
  },
  {
   "cell_type": "markdown",
   "metadata": {},
   "source": [
    "##  Dependencies and Setup"
   ]
  },
  {
   "cell_type": "code",
   "execution_count": null,
   "metadata": {},
   "outputs": [],
   "source": [
    "  # Importing library\n",
    "%matplotlib inline"
   ]
  },
  {
   "cell_type": "code",
   "execution_count": null,
   "metadata": {},
   "outputs": [],
   "source": [
    "  # Importing external packages\n",
    "import matplotlib.pyplot as plt\n",
    "import pandas as pd\n",
    "import numpy as np"
   ]
  },
  {
   "cell_type": "code",
   "execution_count": null,
   "metadata": {},
   "outputs": [],
   "source": [
    "  # File to Load \n",
    "ticket_data = \"Resources//ticket_data.csv\""
   ]
  },
  {
   "cell_type": "code",
   "execution_count": null,
   "metadata": {},
   "outputs": [],
   "source": [
    "  # Read the Ticket file and store Pandas data frame\n",
    "df_ticket_cl = pd.read_csv(ticket_data)\n",
    "#ticket_data_df = ticket_data_df.drop_duplicates('city')\n",
    "   # Print out in the window\n",
    "df_ticket_cl.head()"
   ]
  },
  {
   "cell_type": "markdown",
   "metadata": {},
   "source": [
    "\n"
   ]
  },
  {
   "cell_type": "markdown",
   "metadata": {},
   "source": [
    "## II.  Service Center  Demand\n",
    "\n",
    "The following graph displays the service center..."
   ]
  },
  {
   "cell_type": "markdown",
   "metadata": {},
   "source": [
    "### Service Center Demand (by location)"
   ]
  },
  {
   "cell_type": "code",
   "execution_count": null,
   "metadata": {},
   "outputs": [],
   "source": [
    "# The focus of this analysis, is ticket usage by service location\n",
    "# Again, value_counts() is leveraged to find unique row count by service location\n",
    "popular_Service_location = df_ticket_cl['Service location'].value_counts()\n",
    "popular_Service_location.sort_values(ascending = False).head(6)\n",
    "\n",
    "# Plot covers the top 6 service locations that potray more usage than other locations\n",
    "pop_location_chart = popular_Service_location[0:6].plot(kind = \"barh\",width = 0.75,figsize = (13,5),alpha = 0.75)\n",
    "plt.title(\"Top 6 Service locations\")\n",
    "plt.text(300,6.5,\"The locations below receive the most tickets\",bbox=dict(facecolor='Lightblue',alpha =0.5) )\n",
    "plt.savefig(\"Images/5_pop_location.png\",bbox_inches = \"tight\")\n",
    "plt.show()"
   ]
  },
  {
   "cell_type": "markdown",
   "metadata": {},
   "source": [
    "###  Service Center Demand (by category)\n",
    "\n",
    "Many services cegories names have been used over the years. "
   ]
  },
  {
   "cell_type": "code",
   "execution_count": null,
   "metadata": {},
   "outputs": [],
   "source": [
    "  # Analysis by Tickets Types helps determine which programs are popular. \n",
    "popular_category_type = df_ticket_cl['Ticket Category Type'].value_counts() \n",
    "print(popular_category_type.head(10))\n",
    "\n",
    "# plot the graph for the popular mebership types \n",
    "explode = (0.1,0,0,0,0,0)\n",
    "colors = [\"gold\", \"lightskyblue\", \"lightcoral\",\"lightgreen\",\"orange\",\"plum\"]\n",
    "popular_category_type[0:6].plot.pie(colors = colors , explode = explode, shadow=True )\n",
    "plt.title(\"Top 5 Ticket Category Types\")\n",
    "plt.savefig(\"Images/6_ticket_type.png\",bbox_inches = \"tight\")\n",
    "plt.show()"
   ]
  },
  {
   "cell_type": "markdown",
   "metadata": {},
   "source": [
    "### Average Ticket Duration (by Service Center Category)\n",
    "\n",
    "* 2014 - 2018 is being considered for this analysis..\n"
   ]
  },
  {
   "cell_type": "code",
   "execution_count": null,
   "metadata": {},
   "outputs": [],
   "source": [
    "  # For each category type in the Top 5, prepare a data series with ticket durations\n",
    "# Find the average for each category type\n",
    "subscriber_type = df_ticket_cl['Ticket Category Type'].value_counts().index\n",
    "top_subscriber_type = subscriber_type[0:6]\n",
    "\n",
    "ticket_minutes = []\n",
    "for element in top_subscriber_type:\n",
    "  time_min = df_ticket_cl[df_ticket_cl['Ticket Category Type'] == element]['Ticket Duration Minutes'].values\n",
    "  ticket_minutes.append(np.mean(time_min))\n",
    "\n",
    "x_axis  =  np.arange(0, len(top_subscriber_type))\n",
    "tick_locations = []\n",
    "for x in x_axis:\n",
    "  tick_locations.append(x)\n",
    "\n",
    "ticket_minutes.sort(reverse=True)\n",
    "plt.xticks(tick_locations, [\"month\",\"year\"..], rotation=90)\n",
    "colors = [\"gold\", \"lightgreen\",\"plum\",\"lightcoral\",\"orange\",\"lightskyblue\"]\n",
    "plt.bar(height= ticket_minutes, x= tick_locations, color=colors,alpha = 0.75)\n",
    "plt.title('Average Ticket Duration by Top Ticket Category Type')\n",
    "plt.savefig(\"Images/7_avg_duration_mem_type.png\",bbox_inches = \"tight\")\n",
    "plt.show()"
   ]
  },
  {
   "cell_type": "markdown",
   "metadata": {},
   "source": [
    "### Average Trip Duration Over the Years (by Membership Category)\n",
    "\n",
    "In this section we calculate the average trip duration and display the trip duration by membership type through the years. "
   ]
  },
  {
   "cell_type": "code",
   "execution_count": null,
   "metadata": {},
   "outputs": [],
   "source": [
    "# For each year, filter the data into a data frame.\n",
    "# For that data frame, for the above selected top 5 category types \n",
    "# Calculate the average duration of tickets\n",
    "fig, ax = plt.subplots(figsize=(20, 10))\n",
    "title_font = {'fontname':'Arial', 'size':'20', 'color':'black', 'weight':'normal',\n",
    "              'verticalalignment':'bottom'} # Bottom vertical alignment for more space\n",
    "axis_font = {'fontname':'Arial', 'size':'20'}\n",
    "w = 0.2\n",
    "subscriber_type = df_ticket_cl['Ticket Category Type'].value_counts().index\n",
    "top_subscriber_type = subscriber_type[0:6]\n",
    "\n",
    "## For 2018\n",
    "df_ticket_2018 = df_ticket_cl.loc[(df_ticket_cl[\"Ticket Year\"] ==2018)]\n",
    "\n",
    "ticket_minutes_2018 = []\n",
    "for element in top_subscriber_type:\n",
    "   time_min = df_ticket_2018[df_ticket_2018['Ticket Category Type'] == element]['Ticket Duration Minutes'].values\n",
    "   ticket_minutes_2018.append(np.mean(time_min))\n",
    "\n",
    "## For 2017\n",
    "\n",
    "df_ticket_2017 = df_ticket_cl.loc[(df_ticket_cl[\"Ticket Year\"] ==2017)]\n",
    "\n",
    "ticket_minutes_2017 = []\n",
    "for element in top_subscriber_type:\n",
    "   time_min = df_ticket_2017[df_ticket_2017['Ticket Category Type'] == element]['Ticket Duration Minutes'].values\n",
    "   ticket_minutes_2017.append(np.mean(time_min))\n",
    "\n",
    "## For 2016\n",
    "\n",
    "df_ticket_2016 = df_ticket_cl.loc[(df_ticket_cl[\"Ticket Year\"] ==2016)]\n",
    "\n",
    "ticket_minutes_2016 = []\n",
    "for element in top_subscriber_type:\n",
    "   time_min = df_ticket_2016[df_ticket_2016['Ticket Category Type'] == element]['Ticket Duration Minutes'].values\n",
    "   ticket_minutes_2016.append(np.mean(time_min))\n",
    "\n",
    "## For 2015\n",
    "\n",
    "df_ticket_2015 = df_ticket_cl.loc[(df_ticket_cl[\"Ticket Year\"] ==2015)]\n",
    "\n",
    "ticket_minutes_2015 = []\n",
    "for element in top_subscriber_type:\n",
    "   time_min = df_ticket_2015[df_ticket_2015['Ticket Category Type'] == element]['Ticket Duration Minutes'].values\n",
    "   ticket_minutes_2015.append(np.mean(time_min))\n",
    "\n",
    "## For 2014\n",
    "\n",
    "df_ticket_2014 = df_ticket_cl.loc[(df_ticket_cl[\"Ticket Year\"] ==2014)]\n",
    "\n",
    "ticket_minutes_2014 = []\n",
    "for element in top_subscriber_type:\n",
    "   time_min = df_ticket_2014[df_ticket_2014['Ticket Category Type'] == element]['Ticket Duration Minutes'].values\n",
    "   ticket_minutes_2014.append(np.mean(time_min))\n",
    "\n",
    "\n",
    "x_axis  =  np.arange(0, len(top_subscriber_type))\n",
    "tick_locations = []\n",
    "for x in x_axis:\n",
    "   tick_locations.append(x)\n",
    "\n",
    "# Plot with category types on X-axis and Minutes on Y-axis and stacked by year.\n",
    "plt.setp(ax, xticks= tick_locations, xticklabels= top_subscriber_type)\n",
    "plt.setp(ax.get_xticklabels(), rotation=70, fontsize= 20)\n",
    "ax.bar(x_axis-0.5*w, ticket_minutes_2018,w,color='r',label='2018',alpha = 0.75)\n",
    "ax.bar(x_axis, ticket_minutes_2017,w,color='g',label='2017',alpha = 0.75)\n",
    "ax.bar(x_axis+0.5*w, ticket_minutes_2016,w,color='b',label='2016',alpha = 0.75)\n",
    "ax.bar(x_axis+1*w, ticket_minutes_2015,w,color='y',label='2015',alpha = 0.75)\n",
    "ax.bar(x_axis+1.5*w, ticket_minutes_2014,w,color='c',label='2014',alpha = 0.75)\n",
    "ax.bar(x_axis+2*w, ticket_minutes_2013,w,color='m',label='2013',alpha = 0.75)\n",
    "\n",
    "ax.set_title('Average Ticket Duration by Top Ticket Category Type (over the years)', **title_font)\n",
    "ax.set_ylabel('Minutes', **axis_font)\n",
    "ax.legend(loc=1, prop={'size': 16})\n",
    "plt.savefig(\"Images/8_avg_duration_mem_type_year.png\",bbox_inches = \"tight\")\n",
    "plt.show()\n"
   ]
  }
 ],
 "metadata": {
  "kernelspec": {
   "display_name": "Python 3",
   "language": "python",
   "name": "python3"
  },
  "language_info": {
   "codemirror_mode": {
    "name": "ipython",
    "version": 3
   },
   "file_extension": ".py",
   "mimetype": "text/x-python",
   "name": "python",
   "nbconvert_exporter": "python",
   "pygments_lexer": "ipython3",
   "version": "3.6.7"
  }
 },
 "nbformat": 4,
 "nbformat_minor": 2
}
