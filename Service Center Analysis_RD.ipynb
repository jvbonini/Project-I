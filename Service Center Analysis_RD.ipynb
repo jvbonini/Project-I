{
 "cells": [
  {
   "cell_type": "markdown",
   "metadata": {},
   "source": [
    "# Pypharma HRServices Data "
   ]
  },
  {
   "cell_type": "markdown",
   "metadata": {},
   "source": [
    "##  Dependencies and Setup"
   ]
  },
  {
   "cell_type": "code",
   "execution_count": 1,
   "metadata": {},
   "outputs": [],
   "source": [
    "  # Importing library\n",
    "%matplotlib inline"
   ]
  },
  {
   "cell_type": "code",
   "execution_count": 2,
   "metadata": {},
   "outputs": [],
   "source": [
    "  # Importing external packages\n",
    "import matplotlib.pyplot as plt\n",
    "import pandas as pd\n",
    "import numpy as np"
   ]
  },
  {
   "cell_type": "code",
   "execution_count": 3,
   "metadata": {},
   "outputs": [],
   "source": [
    "  # File to Load \n",
    "ticket_data = \"output_data//cleansed_dataframe.xlsx\""
   ]
  },
  {
   "cell_type": "code",
   "execution_count": 5,
   "metadata": {},
   "outputs": [
    {
     "data": {
      "text/html": [
       "<div>\n",
       "<style scoped>\n",
       "    .dataframe tbody tr th:only-of-type {\n",
       "        vertical-align: middle;\n",
       "    }\n",
       "\n",
       "    .dataframe tbody tr th {\n",
       "        vertical-align: top;\n",
       "    }\n",
       "\n",
       "    .dataframe thead th {\n",
       "        text-align: right;\n",
       "    }\n",
       "</style>\n",
       "<table border=\"1\" class=\"dataframe\">\n",
       "  <thead>\n",
       "    <tr style=\"text-align: right;\">\n",
       "      <th></th>\n",
       "      <th>Case ID</th>\n",
       "      <th>Company</th>\n",
       "      <th>Region</th>\n",
       "      <th>Status</th>\n",
       "      <th>Source</th>\n",
       "      <th>Current Agent</th>\n",
       "      <th>Creation Date</th>\n",
       "      <th>Due Date</th>\n",
       "      <th>Closed Date</th>\n",
       "      <th>Service Group</th>\n",
       "      <th>...</th>\n",
       "      <th>Creation Year</th>\n",
       "      <th>Creation Month</th>\n",
       "      <th>Creation Day</th>\n",
       "      <th>Due_Date</th>\n",
       "      <th>Due Time</th>\n",
       "      <th>Due Year</th>\n",
       "      <th>Due Month</th>\n",
       "      <th>Due Day</th>\n",
       "      <th>Closed_Date</th>\n",
       "      <th>Closed Time</th>\n",
       "    </tr>\n",
       "  </thead>\n",
       "  <tbody>\n",
       "    <tr>\n",
       "      <th>0</th>\n",
       "      <td>8111665</td>\n",
       "      <td>AU</td>\n",
       "      <td>APAC</td>\n",
       "      <td>Closed</td>\n",
       "      <td>E-mail</td>\n",
       "      <td>MYHRW_JuliusB</td>\n",
       "      <td>11/05/18  22:07</td>\n",
       "      <td>11/20/18  21:00</td>\n",
       "      <td>11/16/18  07:45</td>\n",
       "      <td>MyHRW</td>\n",
       "      <td>...</td>\n",
       "      <td>2018</td>\n",
       "      <td>11</td>\n",
       "      <td>5</td>\n",
       "      <td>2018-11-20</td>\n",
       "      <td>21:00:00</td>\n",
       "      <td>2018</td>\n",
       "      <td>11</td>\n",
       "      <td>20</td>\n",
       "      <td>2018-11-16</td>\n",
       "      <td>07:45:00</td>\n",
       "    </tr>\n",
       "    <tr>\n",
       "      <th>1</th>\n",
       "      <td>8111974</td>\n",
       "      <td>AU</td>\n",
       "      <td>APAC</td>\n",
       "      <td>Closed</td>\n",
       "      <td>E-mail</td>\n",
       "      <td>MyHRW_AdamSu</td>\n",
       "      <td>11/05/18  23:00</td>\n",
       "      <td>11/13/18  22:01</td>\n",
       "      <td>11/05/18  23:21</td>\n",
       "      <td>MyHRW</td>\n",
       "      <td>...</td>\n",
       "      <td>2018</td>\n",
       "      <td>11</td>\n",
       "      <td>5</td>\n",
       "      <td>2018-11-13</td>\n",
       "      <td>22:01:00</td>\n",
       "      <td>2018</td>\n",
       "      <td>11</td>\n",
       "      <td>13</td>\n",
       "      <td>2018-11-05</td>\n",
       "      <td>23:21:00</td>\n",
       "    </tr>\n",
       "    <tr>\n",
       "      <th>2</th>\n",
       "      <td>8112663</td>\n",
       "      <td>AU</td>\n",
       "      <td>APAC</td>\n",
       "      <td>Closed</td>\n",
       "      <td>E-mail</td>\n",
       "      <td>MyHRW_AdamSu</td>\n",
       "      <td>11/06/18  04:18</td>\n",
       "      <td>11/07/18  22:01</td>\n",
       "      <td>11/06/18  04:52</td>\n",
       "      <td>MyHRW</td>\n",
       "      <td>...</td>\n",
       "      <td>2018</td>\n",
       "      <td>11</td>\n",
       "      <td>6</td>\n",
       "      <td>2018-11-07</td>\n",
       "      <td>22:01:00</td>\n",
       "      <td>2018</td>\n",
       "      <td>11</td>\n",
       "      <td>7</td>\n",
       "      <td>2018-11-06</td>\n",
       "      <td>04:52:00</td>\n",
       "    </tr>\n",
       "    <tr>\n",
       "      <th>3</th>\n",
       "      <td>8112727</td>\n",
       "      <td>AU</td>\n",
       "      <td>APAC</td>\n",
       "      <td>Closed</td>\n",
       "      <td>Interface</td>\n",
       "      <td>MyHRW_AdamSu</td>\n",
       "      <td>11/06/18  04:58</td>\n",
       "      <td>11/08/18  22:01</td>\n",
       "      <td>11/06/18  05:04</td>\n",
       "      <td>MyHRW</td>\n",
       "      <td>...</td>\n",
       "      <td>2018</td>\n",
       "      <td>11</td>\n",
       "      <td>6</td>\n",
       "      <td>2018-11-08</td>\n",
       "      <td>22:01:00</td>\n",
       "      <td>2018</td>\n",
       "      <td>11</td>\n",
       "      <td>8</td>\n",
       "      <td>2018-11-06</td>\n",
       "      <td>05:04:00</td>\n",
       "    </tr>\n",
       "    <tr>\n",
       "      <th>4</th>\n",
       "      <td>8112910</td>\n",
       "      <td>AU</td>\n",
       "      <td>APAC</td>\n",
       "      <td>Closed</td>\n",
       "      <td>E-mail</td>\n",
       "      <td>MYHRW_JuliusB</td>\n",
       "      <td>11/06/18  06:06</td>\n",
       "      <td>11/13/18  22:01</td>\n",
       "      <td>11/06/18  07:31</td>\n",
       "      <td>MyHRW</td>\n",
       "      <td>...</td>\n",
       "      <td>2018</td>\n",
       "      <td>11</td>\n",
       "      <td>6</td>\n",
       "      <td>2018-11-13</td>\n",
       "      <td>22:01:00</td>\n",
       "      <td>2018</td>\n",
       "      <td>11</td>\n",
       "      <td>13</td>\n",
       "      <td>2018-11-06</td>\n",
       "      <td>07:31:00</td>\n",
       "    </tr>\n",
       "  </tbody>\n",
       "</table>\n",
       "<p>5 rows × 34 columns</p>\n",
       "</div>"
      ],
      "text/plain": [
       "   Case ID  Company Region  Status     Source  Current Agent  \\\n",
       "0   8111665      AU   APAC  Closed     E-mail  MYHRW_JuliusB   \n",
       "1   8111974      AU   APAC  Closed     E-mail   MyHRW_AdamSu   \n",
       "2   8112663      AU   APAC  Closed     E-mail   MyHRW_AdamSu   \n",
       "3   8112727      AU   APAC  Closed  Interface   MyHRW_AdamSu   \n",
       "4   8112910      AU   APAC  Closed     E-mail  MYHRW_JuliusB   \n",
       "\n",
       "       Creation Date           Due Date        Closed Date Service Group  \\\n",
       "0   11/05/18  22:07    11/20/18  21:00    11/16/18  07:45          MyHRW   \n",
       "1   11/05/18  23:00    11/13/18  22:01    11/05/18  23:21          MyHRW   \n",
       "2   11/06/18  04:18    11/07/18  22:01    11/06/18  04:52          MyHRW   \n",
       "3   11/06/18  04:58    11/08/18  22:01    11/06/18  05:04          MyHRW   \n",
       "4   11/06/18  06:06    11/13/18  22:01    11/06/18  07:31          MyHRW   \n",
       "\n",
       "      ...     Creation Year Creation Month Creation Day   Due_Date  Due Time  \\\n",
       "0     ...              2018             11            5 2018-11-20  21:00:00   \n",
       "1     ...              2018             11            5 2018-11-13  22:01:00   \n",
       "2     ...              2018             11            6 2018-11-07  22:01:00   \n",
       "3     ...              2018             11            6 2018-11-08  22:01:00   \n",
       "4     ...              2018             11            6 2018-11-13  22:01:00   \n",
       "\n",
       "  Due Year Due Month  Due Day  Closed_Date Closed Time  \n",
       "0     2018        11       20   2018-11-16    07:45:00  \n",
       "1     2018        11       13   2018-11-05    23:21:00  \n",
       "2     2018        11        7   2018-11-06    04:52:00  \n",
       "3     2018        11        8   2018-11-06    05:04:00  \n",
       "4     2018        11       13   2018-11-06    07:31:00  \n",
       "\n",
       "[5 rows x 34 columns]"
      ]
     },
     "execution_count": 5,
     "metadata": {},
     "output_type": "execute_result"
    }
   ],
   "source": [
    "  # Read the Ticket file and store Pandas data frame\n",
    "df_ticket_cl = pd.read_excel(ticket_data)\n",
    "\n",
    "# Print out in the window\n",
    "df_ticket_cl.head()"
   ]
  },
  {
   "cell_type": "markdown",
   "metadata": {},
   "source": [
    "\n"
   ]
  },
  {
   "cell_type": "markdown",
   "metadata": {},
   "source": [
    "## II.  Service Center  Demand\n",
    "\n",
    "The following graph displays the service center..."
   ]
  },
  {
   "cell_type": "markdown",
   "metadata": {},
   "source": [
    "### The Service Type Demand"
   ]
  },
  {
   "cell_type": "code",
   "execution_count": 67,
   "metadata": {
    "scrolled": false
   },
   "outputs": [
    {
     "data": {
      "image/png": "[encoded data removed]",
      "text/plain": [
       "<Figure size 1296x576 with 1 Axes>"
      ]
     },
     "metadata": {
      "needs_background": "light"
     },
     "output_type": "display_data"
    }
   ],
   "source": [
    "# The focus of this analysis, is ticket usage by service location\n",
    "# Again, value_counts() is leveraged to find unique row count by service location\n",
    "popular_Service_Type = df_ticket_cl['Service'].value_counts()\n",
    "popular_Service_Type.sort_values(ascending = False).head(6)\n",
    "\n",
    "# Plot covers the top 6 service locations that potray more usage than other locations\n",
    "pop_location_chart = popular_Service_Type[0:10].plot(kind = \"barh\",width = 0.75,figsize = (18,8),alpha = 0.99)\n",
    "plt.title(\"Top 10 Service Types\")\n",
    "plt.text(500,10,\"The service type below receive the most tickets\",bbox=dict(facecolor='Lightblue',alpha =0.5) )\n",
    "#plt.text(300,6.5,\"The service type below receive the most tickets\",bbox=dict(facecolor='Lightblue',alpha =0.5) )\n",
    "\n",
    "\n",
    "rects = pop_location_chart.patches\n",
    "\n",
    "# For each bar: Place a label\n",
    "for rect in rects:\n",
    "    # Get X and Y placement of label from rect.\n",
    "    x_value = rect.get_width()\n",
    "    y_value = rect.get_y() + rect.get_height() / 2\n",
    "\n",
    "    # Number of points between bar and label. Change to your liking.\n",
    "    space = 5\n",
    "    # Vertical alignment for positive values\n",
    "    ha = 'left'\n",
    "\n",
    "    # If value of bar is negative: Place label left of bar\n",
    "    if x_value < 0:\n",
    "        # Invert space to place label to the left\n",
    "        space *= -1\n",
    "        # Horizontally align label at right\n",
    "        ha = 'right'\n",
    "\n",
    "    # Use X value as label and format number with one decimal place\n",
    "    label = \"{:.0f}\".format(x_value)\n",
    "\n",
    "    # Create annotation\n",
    "    plt.annotate(\n",
    "        label,                      # Use `label` as label\n",
    "        (x_value, y_value),         # Place label at end of the bar\n",
    "        xytext=(space, 0),          # Horizontally shift label by `space`\n",
    "        textcoords=\"offset points\", # Interpret `xytext` as offset in points\n",
    "        va='center',                # Vertically center label\n",
    "        ha=ha)                      # Horizontally align label differently for\n",
    "                                    # positive and negative values.\n",
    "\n",
    "    \n",
    "plt.savefig(\"output_data/Top 6 Service Types.png\",bbox_inches = \"tight\")\n",
    "plt.show()"
   ]
  },
  {
   "cell_type": "markdown",
   "metadata": {},
   "source": [
    "###  Service Center Demand (by category)\n",
    "\n",
    "Many services cegories names have been used over the years. "
   ]
  },
  {
   "cell_type": "code",
   "execution_count": 91,
   "metadata": {
    "scrolled": true
   },
   "outputs": [
    {
     "name": "stdout",
     "output_type": "stream",
     "text": [
      "Jacksonville    32455\n",
      "Granada         19711\n",
      "Dalian           3104\n",
      "Katowice         2927\n",
      "Buenos Aires     1876\n",
      "Manila           1735\n",
      "St Johns         1688\n",
      "US - AMO         1190\n",
      "Name: Service Center, dtype: int64\n"
     ]
    },
    {
     "data": {
      "image/png": "[encoded data removed]",
      "text/plain": [
       "<Figure size 432x288 with 1 Axes>"
      ]
     },
     "metadata": {},
     "output_type": "display_data"
    }
   ],
   "source": [
    "  # Analysis by Tickets Types helps determine which programs are popular. \n",
    "popular_category_type = df_ticket_cl['Service Center'].value_counts() \n",
    "print(popular_category_type.head(10))\n",
    "\n",
    "# plot the graph for the popular mebership types \n",
    "explode = (0.1,0,0,0,0,0)\n",
    "colors = [\"gold\", \"lightskyblue\", \"lightcoral\",\"lightgreen\",\"orange\",\"plum\"]\n",
    "popular_category_type[0:6].plot.pie(colors = colors , explode = explode, shadow=True,\n",
    "autopct='%1.0f%%', startangle=140)\n",
    "\n",
    "plt.title(\"Top 6 Ticket Center Locations\")\n",
    "\n",
    "plt.savefig(\"output_data/Top 6 Ticket Center Locations.png\",bbox_inches = \"tight\")\n",
    "plt.show()"
   ]
  },
  {
   "cell_type": "code",
   "execution_count": null,
   "metadata": {},
   "outputs": [],
   "source": [
    "  # Analysis by Tickets Types helps determine which programs are popular. \n",
    "popular_category_type = df_ticket_cl['Source'].value_counts() \n",
    "print(popular_category_type.head(10))\n",
    "\n",
    "# plot the graph for the popular mebership types \n",
    "explode = (0.1,0,0,0,0,0)\n",
    "colors = [\"gold\", \"lightskyblue\", \"lightcoral\",\"lightgreen\",\"orange\",\"plum\"]\n",
    "popular_category_type[0:6].plot.pie(colors = colors , explode = explode, shadow=True )\n",
    "plt.title(\"Top 6 Ticket Center Locations\")\n",
    "plt.savefig(\"output_data/Top 6 Ticket Sources.png\",bbox_inches = \"tight\")\n",
    "plt.show()"
   ]
  },
  {
   "cell_type": "markdown",
   "metadata": {},
   "source": [
    "### Average Ticket Duration (by Service Center Category)\n",
    "\n",
    "* 2014 - 2018 is being considered for this analysis..\n"
   ]
  },
  {
   "cell_type": "code",
   "execution_count": null,
   "metadata": {},
   "outputs": [],
   "source": [
    "  # For each category type in the Top 5, prepare a data series with ticket durations\n",
    "# Find the average for each category type\n",
    "subscriber_type = df_ticket_cl['Service'].value_counts().index\n",
    "top_subscriber_type = subscriber_type[0:6]\n",
    "\n",
    "ticket_minutes = []\n",
    "for element in top_subscriber_type:\n",
    "  time_min = df_ticket_cl[df_ticket_cl['Closed Time'] == element]['Service'].values\n",
    "  ticket_minutes.append(np.mean(time_min))\n",
    "\n",
    "x_axis  =  np.arange(0, len(top_subscriber_type))\n",
    "tick_locations = []\n",
    "for x in x_axis:\n",
    "  tick_locations.append(x)\n",
    "\n",
    "ticket_minutes.sort(reverse=True)\n",
    "plt.xticks(tick_locations, [\"month\",\"year\"..], rotation=90)\n",
    "colors = [\"gold\", \"lightgreen\",\"plum\",\"lightcoral\",\"orange\",\"lightskyblue\"]\n",
    "plt.bar(height= ticket_minutes, x= tick_locations, color=colors,alpha = 0.75)\n",
    "plt.title('Average Ticket Duration by Top Ticket Category Type')\n",
    "plt.savefig(\"output_data/7_avg_duration_mem_type.png\",bbox_inches = \"tight\")\n",
    "plt.show()"
   ]
  },
  {
   "cell_type": "markdown",
   "metadata": {},
   "source": [
    "### Average Trip Duration Over the Years (by Membership Category)\n",
    "\n",
    "In this section we calculate the average trip duration and display the trip duration by membership type through the years. "
   ]
  },
  {
   "cell_type": "code",
   "execution_count": null,
   "metadata": {},
   "outputs": [],
   "source": [
    "# For each year, filter the data into a data frame.\n",
    "# For that data frame, for the above selected top 5 category types \n",
    "# Calculate the average duration of tickets\n",
    "fig, ax = plt.subplots(figsize=(20, 10))\n",
    "title_font = {'fontname':'Arial', 'size':'20', 'color':'black', 'weight':'normal',\n",
    "              'verticalalignment':'bottom'} # Bottom vertical alignment for more space\n",
    "axis_font = {'fontname':'Arial', 'size':'20'}\n",
    "w = 0.2\n",
    "subscriber_type = df_ticket_cl['Ticket Category Type'].value_counts().index\n",
    "top_subscriber_type = subscriber_type[0:6]\n",
    "\n",
    "## For 2018\n",
    "df_ticket_2018 = df_ticket_cl.loc[(df_ticket_cl[\"Ticket Year\"] ==2018)]\n",
    "\n",
    "ticket_minutes_2018 = []\n",
    "for element in top_subscriber_type:\n",
    "   time_min = df_ticket_2018[df_ticket_2018['Ticket Category Type'] == element]['Ticket Duration Minutes'].values\n",
    "   ticket_minutes_2018.append(np.mean(time_min))\n",
    "\n",
    "## For 2017\n",
    "\n",
    "df_ticket_2017 = df_ticket_cl.loc[(df_ticket_cl[\"Ticket Year\"] ==2017)]\n",
    "\n",
    "ticket_minutes_2017 = []\n",
    "for element in top_subscriber_type:\n",
    "   time_min = df_ticket_2017[df_ticket_2017['Ticket Category Type'] == element]['Ticket Duration Minutes'].values\n",
    "   ticket_minutes_2017.append(np.mean(time_min))\n",
    "\n",
    "## For 2016\n",
    "\n",
    "df_ticket_2016 = df_ticket_cl.loc[(df_ticket_cl[\"Ticket Year\"] ==2016)]\n",
    "\n",
    "ticket_minutes_2016 = []\n",
    "for element in top_subscriber_type:\n",
    "   time_min = df_ticket_2016[df_ticket_2016['Ticket Category Type'] == element]['Ticket Duration Minutes'].values\n",
    "   ticket_minutes_2016.append(np.mean(time_min))\n",
    "\n",
    "## For 2015\n",
    "\n",
    "df_ticket_2015 = df_ticket_cl.loc[(df_ticket_cl[\"Ticket Year\"] ==2015)]\n",
    "\n",
    "ticket_minutes_2015 = []\n",
    "for element in top_subscriber_type:\n",
    "   time_min = df_ticket_2015[df_ticket_2015['Ticket Category Type'] == element]['Ticket Duration Minutes'].values\n",
    "   ticket_minutes_2015.append(np.mean(time_min))\n",
    "\n",
    "## For 2014\n",
    "\n",
    "df_ticket_2014 = df_ticket_cl.loc[(df_ticket_cl[\"Ticket Year\"] ==2014)]\n",
    "\n",
    "ticket_minutes_2014 = []\n",
    "for element in top_subscriber_type:\n",
    "   time_min = df_ticket_2014[df_ticket_2014['Ticket Category Type'] == element]['Ticket Duration Minutes'].values\n",
    "   ticket_minutes_2014.append(np.mean(time_min))\n",
    "\n",
    "\n",
    "x_axis  =  np.arange(0, len(top_subscriber_type))\n",
    "tick_locations = []\n",
    "for x in x_axis:\n",
    "   tick_locations.append(x)\n",
    "\n",
    "# Plot with category types on X-axis and Minutes on Y-axis and stacked by year.\n",
    "plt.setp(ax, xticks= tick_locations, xticklabels= top_subscriber_type)\n",
    "plt.setp(ax.get_xticklabels(), rotation=70, fontsize= 20)\n",
    "ax.bar(x_axis-0.5*w, ticket_minutes_2018,w,color='r',label='2018',alpha = 0.75)\n",
    "ax.bar(x_axis, ticket_minutes_2017,w,color='g',label='2017',alpha = 0.75)\n",
    "ax.bar(x_axis+0.5*w, ticket_minutes_2016,w,color='b',label='2016',alpha = 0.75)\n",
    "ax.bar(x_axis+1*w, ticket_minutes_2015,w,color='y',label='2015',alpha = 0.75)\n",
    "ax.bar(x_axis+1.5*w, ticket_minutes_2014,w,color='c',label='2014',alpha = 0.75)\n",
    "ax.bar(x_axis+2*w, ticket_minutes_2013,w,color='m',label='2013',alpha = 0.75)\n",
    "\n",
    "ax.set_title('Average Ticket Duration by Top Ticket Category Type (over the years)', **title_font)\n",
    "ax.set_ylabel('Minutes', **axis_font)\n",
    "ax.legend(loc=1, prop={'size': 16})\n",
    "plt.savefig(\"Images/8_avg_duration_mem_type_year.png\",bbox_inches = \"tight\")\n",
    "plt.show()\n"
   ]
  },
  {
   "cell_type": "code",
   "execution_count": null,
   "metadata": {},
   "outputs": [],
   "source": [
    "\n"
   ]
  },
  {
   "cell_type": "code",
   "execution_count": null,
   "metadata": {},
   "outputs": [],
   "source": []
  }
 ],
 "metadata": {
  "kernelspec": {
   "display_name": "Python 3",
   "language": "python",
   "name": "python3"
  },
  "language_info": {
   "codemirror_mode": {
    "name": "ipython",
    "version": 3
   },
   "file_extension": ".py",
   "mimetype": "text/x-python",
   "name": "python",
   "nbconvert_exporter": "python",
   "pygments_lexer": "ipython3",
   "version": "3.7.1"
  }
 },
 "nbformat": 4,
 "nbformat_minor": 2
}
